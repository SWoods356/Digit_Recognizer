{
 "cells": [
  {
   "cell_type": "code",
   "execution_count": 2,
   "id": "076e844d",
   "metadata": {},
   "outputs": [],
   "source": [
    "# load up modules\n",
    "import pandas as pd\n",
    "import numpy as np\n",
    "from scipy.stats import kurtosis, skew\n",
    "from scipy import stats\n",
    "\n",
    "# load for visuals\n",
    "import seaborn as sns\n",
    "import matplotlib.pyplot as plt\n",
    "import plotly.express as px\n",
    "\n",
    "#models\n",
    "from sklearn import tree\n",
    "from sklearn.metrics import accuracy_score\n",
    "from sklearn.model_selection import train_test_split\n",
    "from sklearn.linear_model import LogisticRegression\n",
    "from sklearn.model_selection import GridSearchCV\n",
    "from sklearn.preprocessing import MinMaxScaler, StandardScaler\n",
    "\n",
    "#PCA\n",
    "from sklearn.decomposition import PCA\n",
    "from sklearn.preprocessing import StandardScaler\n",
    "\n",
    "\n",
    "#date time\n",
    "import datetime\n",
    "\n",
    "# Figures inline and set visualization style\n",
    "%matplotlib inline\n",
    "sns.set()"
   ]
  },
  {
   "cell_type": "code",
   "execution_count": 3,
   "id": "d761d10d",
   "metadata": {},
   "outputs": [],
   "source": [
    "# Set up notebook to display multiple outputs in one cell\n",
    "from IPython.core.interactiveshell import InteractiveShell\n",
    "InteractiveShell.ast_node_interactivity = \"all\""
   ]
  },
  {
   "cell_type": "code",
   "execution_count": 4,
   "id": "9283a8d7",
   "metadata": {},
   "outputs": [
    {
     "data": {
      "text/plain": [
       "(42000, 785)"
      ]
     },
     "execution_count": 4,
     "metadata": {},
     "output_type": "execute_result"
    },
    {
     "data": {
      "text/plain": [
       "(28000, 784)"
      ]
     },
     "execution_count": 4,
     "metadata": {},
     "output_type": "execute_result"
    }
   ],
   "source": [
    "df = pd.read_csv(r\"C:\\Users\\Swood\\OneDrive\\Northwestern\\422 ML\\Digit_Recognizer\\train.csv\")\n",
    "df_test = pd.read_csv(r\"C:\\Users\\Swood\\OneDrive\\Northwestern\\422 ML\\Digit_Recognizer\\test.csv\")\n",
    "\n",
    "df.shape\n",
    "df_test.shape\n"
   ]
  },
  {
   "cell_type": "code",
   "execution_count": 5,
   "id": "1e42c75c",
   "metadata": {},
   "outputs": [
    {
     "name": "stdout",
     "output_type": "stream",
     "text": [
      "<class 'pandas.core.frame.DataFrame'>\n",
      "RangeIndex: 42000 entries, 0 to 41999\n",
      "Columns: 785 entries, label to pixel783\n",
      "dtypes: int64(785)\n",
      "memory usage: 251.5 MB\n"
     ]
    },
    {
     "data": {
      "text/plain": [
       "int64    785\n",
       "dtype: int64"
      ]
     },
     "execution_count": 5,
     "metadata": {},
     "output_type": "execute_result"
    },
    {
     "data": {
      "text/html": [
       "<div>\n",
       "<style scoped>\n",
       "    .dataframe tbody tr th:only-of-type {\n",
       "        vertical-align: middle;\n",
       "    }\n",
       "\n",
       "    .dataframe tbody tr th {\n",
       "        vertical-align: top;\n",
       "    }\n",
       "\n",
       "    .dataframe thead th {\n",
       "        text-align: right;\n",
       "    }\n",
       "</style>\n",
       "<table border=\"1\" class=\"dataframe\">\n",
       "  <thead>\n",
       "    <tr style=\"text-align: right;\">\n",
       "      <th></th>\n",
       "      <th>label</th>\n",
       "      <th>pixel0</th>\n",
       "      <th>pixel1</th>\n",
       "      <th>pixel2</th>\n",
       "      <th>pixel3</th>\n",
       "      <th>pixel4</th>\n",
       "      <th>pixel5</th>\n",
       "      <th>pixel6</th>\n",
       "      <th>pixel7</th>\n",
       "      <th>pixel8</th>\n",
       "      <th>...</th>\n",
       "      <th>pixel774</th>\n",
       "      <th>pixel775</th>\n",
       "      <th>pixel776</th>\n",
       "      <th>pixel777</th>\n",
       "      <th>pixel778</th>\n",
       "      <th>pixel779</th>\n",
       "      <th>pixel780</th>\n",
       "      <th>pixel781</th>\n",
       "      <th>pixel782</th>\n",
       "      <th>pixel783</th>\n",
       "    </tr>\n",
       "  </thead>\n",
       "  <tbody>\n",
       "    <tr>\n",
       "      <th>0</th>\n",
       "      <td>1</td>\n",
       "      <td>0</td>\n",
       "      <td>0</td>\n",
       "      <td>0</td>\n",
       "      <td>0</td>\n",
       "      <td>0</td>\n",
       "      <td>0</td>\n",
       "      <td>0</td>\n",
       "      <td>0</td>\n",
       "      <td>0</td>\n",
       "      <td>...</td>\n",
       "      <td>0</td>\n",
       "      <td>0</td>\n",
       "      <td>0</td>\n",
       "      <td>0</td>\n",
       "      <td>0</td>\n",
       "      <td>0</td>\n",
       "      <td>0</td>\n",
       "      <td>0</td>\n",
       "      <td>0</td>\n",
       "      <td>0</td>\n",
       "    </tr>\n",
       "    <tr>\n",
       "      <th>1</th>\n",
       "      <td>0</td>\n",
       "      <td>0</td>\n",
       "      <td>0</td>\n",
       "      <td>0</td>\n",
       "      <td>0</td>\n",
       "      <td>0</td>\n",
       "      <td>0</td>\n",
       "      <td>0</td>\n",
       "      <td>0</td>\n",
       "      <td>0</td>\n",
       "      <td>...</td>\n",
       "      <td>0</td>\n",
       "      <td>0</td>\n",
       "      <td>0</td>\n",
       "      <td>0</td>\n",
       "      <td>0</td>\n",
       "      <td>0</td>\n",
       "      <td>0</td>\n",
       "      <td>0</td>\n",
       "      <td>0</td>\n",
       "      <td>0</td>\n",
       "    </tr>\n",
       "    <tr>\n",
       "      <th>2</th>\n",
       "      <td>1</td>\n",
       "      <td>0</td>\n",
       "      <td>0</td>\n",
       "      <td>0</td>\n",
       "      <td>0</td>\n",
       "      <td>0</td>\n",
       "      <td>0</td>\n",
       "      <td>0</td>\n",
       "      <td>0</td>\n",
       "      <td>0</td>\n",
       "      <td>...</td>\n",
       "      <td>0</td>\n",
       "      <td>0</td>\n",
       "      <td>0</td>\n",
       "      <td>0</td>\n",
       "      <td>0</td>\n",
       "      <td>0</td>\n",
       "      <td>0</td>\n",
       "      <td>0</td>\n",
       "      <td>0</td>\n",
       "      <td>0</td>\n",
       "    </tr>\n",
       "    <tr>\n",
       "      <th>3</th>\n",
       "      <td>4</td>\n",
       "      <td>0</td>\n",
       "      <td>0</td>\n",
       "      <td>0</td>\n",
       "      <td>0</td>\n",
       "      <td>0</td>\n",
       "      <td>0</td>\n",
       "      <td>0</td>\n",
       "      <td>0</td>\n",
       "      <td>0</td>\n",
       "      <td>...</td>\n",
       "      <td>0</td>\n",
       "      <td>0</td>\n",
       "      <td>0</td>\n",
       "      <td>0</td>\n",
       "      <td>0</td>\n",
       "      <td>0</td>\n",
       "      <td>0</td>\n",
       "      <td>0</td>\n",
       "      <td>0</td>\n",
       "      <td>0</td>\n",
       "    </tr>\n",
       "    <tr>\n",
       "      <th>4</th>\n",
       "      <td>0</td>\n",
       "      <td>0</td>\n",
       "      <td>0</td>\n",
       "      <td>0</td>\n",
       "      <td>0</td>\n",
       "      <td>0</td>\n",
       "      <td>0</td>\n",
       "      <td>0</td>\n",
       "      <td>0</td>\n",
       "      <td>0</td>\n",
       "      <td>...</td>\n",
       "      <td>0</td>\n",
       "      <td>0</td>\n",
       "      <td>0</td>\n",
       "      <td>0</td>\n",
       "      <td>0</td>\n",
       "      <td>0</td>\n",
       "      <td>0</td>\n",
       "      <td>0</td>\n",
       "      <td>0</td>\n",
       "      <td>0</td>\n",
       "    </tr>\n",
       "  </tbody>\n",
       "</table>\n",
       "<p>5 rows × 785 columns</p>\n",
       "</div>"
      ],
      "text/plain": [
       "   label  pixel0  pixel1  pixel2  pixel3  pixel4  pixel5  pixel6  pixel7  \\\n",
       "0      1       0       0       0       0       0       0       0       0   \n",
       "1      0       0       0       0       0       0       0       0       0   \n",
       "2      1       0       0       0       0       0       0       0       0   \n",
       "3      4       0       0       0       0       0       0       0       0   \n",
       "4      0       0       0       0       0       0       0       0       0   \n",
       "\n",
       "   pixel8  ...  pixel774  pixel775  pixel776  pixel777  pixel778  pixel779  \\\n",
       "0       0  ...         0         0         0         0         0         0   \n",
       "1       0  ...         0         0         0         0         0         0   \n",
       "2       0  ...         0         0         0         0         0         0   \n",
       "3       0  ...         0         0         0         0         0         0   \n",
       "4       0  ...         0         0         0         0         0         0   \n",
       "\n",
       "   pixel780  pixel781  pixel782  pixel783  \n",
       "0         0         0         0         0  \n",
       "1         0         0         0         0  \n",
       "2         0         0         0         0  \n",
       "3         0         0         0         0  \n",
       "4         0         0         0         0  \n",
       "\n",
       "[5 rows x 785 columns]"
      ]
     },
     "execution_count": 5,
     "metadata": {},
     "output_type": "execute_result"
    },
    {
     "data": {
      "text/html": [
       "<div>\n",
       "<style scoped>\n",
       "    .dataframe tbody tr th:only-of-type {\n",
       "        vertical-align: middle;\n",
       "    }\n",
       "\n",
       "    .dataframe tbody tr th {\n",
       "        vertical-align: top;\n",
       "    }\n",
       "\n",
       "    .dataframe thead th {\n",
       "        text-align: right;\n",
       "    }\n",
       "</style>\n",
       "<table border=\"1\" class=\"dataframe\">\n",
       "  <thead>\n",
       "    <tr style=\"text-align: right;\">\n",
       "      <th></th>\n",
       "      <th>label</th>\n",
       "      <th>pixel0</th>\n",
       "      <th>pixel1</th>\n",
       "      <th>pixel2</th>\n",
       "      <th>pixel3</th>\n",
       "      <th>pixel4</th>\n",
       "      <th>pixel5</th>\n",
       "      <th>pixel6</th>\n",
       "      <th>pixel7</th>\n",
       "      <th>pixel8</th>\n",
       "      <th>...</th>\n",
       "      <th>pixel774</th>\n",
       "      <th>pixel775</th>\n",
       "      <th>pixel776</th>\n",
       "      <th>pixel777</th>\n",
       "      <th>pixel778</th>\n",
       "      <th>pixel779</th>\n",
       "      <th>pixel780</th>\n",
       "      <th>pixel781</th>\n",
       "      <th>pixel782</th>\n",
       "      <th>pixel783</th>\n",
       "    </tr>\n",
       "  </thead>\n",
       "  <tbody>\n",
       "    <tr>\n",
       "      <th>41995</th>\n",
       "      <td>0</td>\n",
       "      <td>0</td>\n",
       "      <td>0</td>\n",
       "      <td>0</td>\n",
       "      <td>0</td>\n",
       "      <td>0</td>\n",
       "      <td>0</td>\n",
       "      <td>0</td>\n",
       "      <td>0</td>\n",
       "      <td>0</td>\n",
       "      <td>...</td>\n",
       "      <td>0</td>\n",
       "      <td>0</td>\n",
       "      <td>0</td>\n",
       "      <td>0</td>\n",
       "      <td>0</td>\n",
       "      <td>0</td>\n",
       "      <td>0</td>\n",
       "      <td>0</td>\n",
       "      <td>0</td>\n",
       "      <td>0</td>\n",
       "    </tr>\n",
       "    <tr>\n",
       "      <th>41996</th>\n",
       "      <td>1</td>\n",
       "      <td>0</td>\n",
       "      <td>0</td>\n",
       "      <td>0</td>\n",
       "      <td>0</td>\n",
       "      <td>0</td>\n",
       "      <td>0</td>\n",
       "      <td>0</td>\n",
       "      <td>0</td>\n",
       "      <td>0</td>\n",
       "      <td>...</td>\n",
       "      <td>0</td>\n",
       "      <td>0</td>\n",
       "      <td>0</td>\n",
       "      <td>0</td>\n",
       "      <td>0</td>\n",
       "      <td>0</td>\n",
       "      <td>0</td>\n",
       "      <td>0</td>\n",
       "      <td>0</td>\n",
       "      <td>0</td>\n",
       "    </tr>\n",
       "    <tr>\n",
       "      <th>41997</th>\n",
       "      <td>7</td>\n",
       "      <td>0</td>\n",
       "      <td>0</td>\n",
       "      <td>0</td>\n",
       "      <td>0</td>\n",
       "      <td>0</td>\n",
       "      <td>0</td>\n",
       "      <td>0</td>\n",
       "      <td>0</td>\n",
       "      <td>0</td>\n",
       "      <td>...</td>\n",
       "      <td>0</td>\n",
       "      <td>0</td>\n",
       "      <td>0</td>\n",
       "      <td>0</td>\n",
       "      <td>0</td>\n",
       "      <td>0</td>\n",
       "      <td>0</td>\n",
       "      <td>0</td>\n",
       "      <td>0</td>\n",
       "      <td>0</td>\n",
       "    </tr>\n",
       "    <tr>\n",
       "      <th>41998</th>\n",
       "      <td>6</td>\n",
       "      <td>0</td>\n",
       "      <td>0</td>\n",
       "      <td>0</td>\n",
       "      <td>0</td>\n",
       "      <td>0</td>\n",
       "      <td>0</td>\n",
       "      <td>0</td>\n",
       "      <td>0</td>\n",
       "      <td>0</td>\n",
       "      <td>...</td>\n",
       "      <td>0</td>\n",
       "      <td>0</td>\n",
       "      <td>0</td>\n",
       "      <td>0</td>\n",
       "      <td>0</td>\n",
       "      <td>0</td>\n",
       "      <td>0</td>\n",
       "      <td>0</td>\n",
       "      <td>0</td>\n",
       "      <td>0</td>\n",
       "    </tr>\n",
       "    <tr>\n",
       "      <th>41999</th>\n",
       "      <td>9</td>\n",
       "      <td>0</td>\n",
       "      <td>0</td>\n",
       "      <td>0</td>\n",
       "      <td>0</td>\n",
       "      <td>0</td>\n",
       "      <td>0</td>\n",
       "      <td>0</td>\n",
       "      <td>0</td>\n",
       "      <td>0</td>\n",
       "      <td>...</td>\n",
       "      <td>0</td>\n",
       "      <td>0</td>\n",
       "      <td>0</td>\n",
       "      <td>0</td>\n",
       "      <td>0</td>\n",
       "      <td>0</td>\n",
       "      <td>0</td>\n",
       "      <td>0</td>\n",
       "      <td>0</td>\n",
       "      <td>0</td>\n",
       "    </tr>\n",
       "  </tbody>\n",
       "</table>\n",
       "<p>5 rows × 785 columns</p>\n",
       "</div>"
      ],
      "text/plain": [
       "       label  pixel0  pixel1  pixel2  pixel3  pixel4  pixel5  pixel6  pixel7  \\\n",
       "41995      0       0       0       0       0       0       0       0       0   \n",
       "41996      1       0       0       0       0       0       0       0       0   \n",
       "41997      7       0       0       0       0       0       0       0       0   \n",
       "41998      6       0       0       0       0       0       0       0       0   \n",
       "41999      9       0       0       0       0       0       0       0       0   \n",
       "\n",
       "       pixel8  ...  pixel774  pixel775  pixel776  pixel777  pixel778  \\\n",
       "41995       0  ...         0         0         0         0         0   \n",
       "41996       0  ...         0         0         0         0         0   \n",
       "41997       0  ...         0         0         0         0         0   \n",
       "41998       0  ...         0         0         0         0         0   \n",
       "41999       0  ...         0         0         0         0         0   \n",
       "\n",
       "       pixel779  pixel780  pixel781  pixel782  pixel783  \n",
       "41995         0         0         0         0         0  \n",
       "41996         0         0         0         0         0  \n",
       "41997         0         0         0         0         0  \n",
       "41998         0         0         0         0         0  \n",
       "41999         0         0         0         0         0  \n",
       "\n",
       "[5 rows x 785 columns]"
      ]
     },
     "execution_count": 5,
     "metadata": {},
     "output_type": "execute_result"
    },
    {
     "data": {
      "text/plain": [
       "1    4684\n",
       "7    4401\n",
       "3    4351\n",
       "9    4188\n",
       "2    4177\n",
       "6    4137\n",
       "0    4132\n",
       "4    4072\n",
       "8    4063\n",
       "5    3795\n",
       "Name: label, dtype: int64"
      ]
     },
     "execution_count": 5,
     "metadata": {},
     "output_type": "execute_result"
    }
   ],
   "source": [
    "df.info()\n",
    "\n",
    "df.dtypes.value_counts()\n",
    "\n",
    "# TODO: Use the head() method to inspect the first five (or more) rows of the data\n",
    "\n",
    "df.head()\n",
    "\n",
    "# TODO: Use the tail() method to inspect the last five (or more) rows of the data\n",
    "\n",
    "df.tail()\n",
    "\n",
    "df['label'].value_counts()"
   ]
  },
  {
   "cell_type": "markdown",
   "id": "2df9bb77",
   "metadata": {},
   "source": [
    "<div style=\"background-color:lightblue;\">\n",
    "Prepare data for modeling\n",
    "</div>"
   ]
  },
  {
   "cell_type": "code",
   "execution_count": 6,
   "id": "a09f5239",
   "metadata": {},
   "outputs": [
    {
     "data": {
      "text/html": [
       "<div>\n",
       "<style scoped>\n",
       "    .dataframe tbody tr th:only-of-type {\n",
       "        vertical-align: middle;\n",
       "    }\n",
       "\n",
       "    .dataframe tbody tr th {\n",
       "        vertical-align: top;\n",
       "    }\n",
       "\n",
       "    .dataframe thead th {\n",
       "        text-align: right;\n",
       "    }\n",
       "</style>\n",
       "<table border=\"1\" class=\"dataframe\">\n",
       "  <thead>\n",
       "    <tr style=\"text-align: right;\">\n",
       "      <th></th>\n",
       "      <th>pixel0</th>\n",
       "      <th>pixel1</th>\n",
       "      <th>pixel2</th>\n",
       "      <th>pixel3</th>\n",
       "      <th>pixel4</th>\n",
       "      <th>pixel5</th>\n",
       "      <th>pixel6</th>\n",
       "      <th>pixel7</th>\n",
       "      <th>pixel8</th>\n",
       "      <th>pixel9</th>\n",
       "      <th>...</th>\n",
       "      <th>pixel774</th>\n",
       "      <th>pixel775</th>\n",
       "      <th>pixel776</th>\n",
       "      <th>pixel777</th>\n",
       "      <th>pixel778</th>\n",
       "      <th>pixel779</th>\n",
       "      <th>pixel780</th>\n",
       "      <th>pixel781</th>\n",
       "      <th>pixel782</th>\n",
       "      <th>pixel783</th>\n",
       "    </tr>\n",
       "  </thead>\n",
       "  <tbody>\n",
       "    <tr>\n",
       "      <th>0</th>\n",
       "      <td>0</td>\n",
       "      <td>0</td>\n",
       "      <td>0</td>\n",
       "      <td>0</td>\n",
       "      <td>0</td>\n",
       "      <td>0</td>\n",
       "      <td>0</td>\n",
       "      <td>0</td>\n",
       "      <td>0</td>\n",
       "      <td>0</td>\n",
       "      <td>...</td>\n",
       "      <td>0</td>\n",
       "      <td>0</td>\n",
       "      <td>0</td>\n",
       "      <td>0</td>\n",
       "      <td>0</td>\n",
       "      <td>0</td>\n",
       "      <td>0</td>\n",
       "      <td>0</td>\n",
       "      <td>0</td>\n",
       "      <td>0</td>\n",
       "    </tr>\n",
       "    <tr>\n",
       "      <th>1</th>\n",
       "      <td>0</td>\n",
       "      <td>0</td>\n",
       "      <td>0</td>\n",
       "      <td>0</td>\n",
       "      <td>0</td>\n",
       "      <td>0</td>\n",
       "      <td>0</td>\n",
       "      <td>0</td>\n",
       "      <td>0</td>\n",
       "      <td>0</td>\n",
       "      <td>...</td>\n",
       "      <td>0</td>\n",
       "      <td>0</td>\n",
       "      <td>0</td>\n",
       "      <td>0</td>\n",
       "      <td>0</td>\n",
       "      <td>0</td>\n",
       "      <td>0</td>\n",
       "      <td>0</td>\n",
       "      <td>0</td>\n",
       "      <td>0</td>\n",
       "    </tr>\n",
       "    <tr>\n",
       "      <th>2</th>\n",
       "      <td>0</td>\n",
       "      <td>0</td>\n",
       "      <td>0</td>\n",
       "      <td>0</td>\n",
       "      <td>0</td>\n",
       "      <td>0</td>\n",
       "      <td>0</td>\n",
       "      <td>0</td>\n",
       "      <td>0</td>\n",
       "      <td>0</td>\n",
       "      <td>...</td>\n",
       "      <td>0</td>\n",
       "      <td>0</td>\n",
       "      <td>0</td>\n",
       "      <td>0</td>\n",
       "      <td>0</td>\n",
       "      <td>0</td>\n",
       "      <td>0</td>\n",
       "      <td>0</td>\n",
       "      <td>0</td>\n",
       "      <td>0</td>\n",
       "    </tr>\n",
       "    <tr>\n",
       "      <th>3</th>\n",
       "      <td>0</td>\n",
       "      <td>0</td>\n",
       "      <td>0</td>\n",
       "      <td>0</td>\n",
       "      <td>0</td>\n",
       "      <td>0</td>\n",
       "      <td>0</td>\n",
       "      <td>0</td>\n",
       "      <td>0</td>\n",
       "      <td>0</td>\n",
       "      <td>...</td>\n",
       "      <td>0</td>\n",
       "      <td>0</td>\n",
       "      <td>0</td>\n",
       "      <td>0</td>\n",
       "      <td>0</td>\n",
       "      <td>0</td>\n",
       "      <td>0</td>\n",
       "      <td>0</td>\n",
       "      <td>0</td>\n",
       "      <td>0</td>\n",
       "    </tr>\n",
       "    <tr>\n",
       "      <th>4</th>\n",
       "      <td>0</td>\n",
       "      <td>0</td>\n",
       "      <td>0</td>\n",
       "      <td>0</td>\n",
       "      <td>0</td>\n",
       "      <td>0</td>\n",
       "      <td>0</td>\n",
       "      <td>0</td>\n",
       "      <td>0</td>\n",
       "      <td>0</td>\n",
       "      <td>...</td>\n",
       "      <td>0</td>\n",
       "      <td>0</td>\n",
       "      <td>0</td>\n",
       "      <td>0</td>\n",
       "      <td>0</td>\n",
       "      <td>0</td>\n",
       "      <td>0</td>\n",
       "      <td>0</td>\n",
       "      <td>0</td>\n",
       "      <td>0</td>\n",
       "    </tr>\n",
       "  </tbody>\n",
       "</table>\n",
       "<p>5 rows × 784 columns</p>\n",
       "</div>"
      ],
      "text/plain": [
       "   pixel0  pixel1  pixel2  pixel3  pixel4  pixel5  pixel6  pixel7  pixel8  \\\n",
       "0       0       0       0       0       0       0       0       0       0   \n",
       "1       0       0       0       0       0       0       0       0       0   \n",
       "2       0       0       0       0       0       0       0       0       0   \n",
       "3       0       0       0       0       0       0       0       0       0   \n",
       "4       0       0       0       0       0       0       0       0       0   \n",
       "\n",
       "   pixel9  ...  pixel774  pixel775  pixel776  pixel777  pixel778  pixel779  \\\n",
       "0       0  ...         0         0         0         0         0         0   \n",
       "1       0  ...         0         0         0         0         0         0   \n",
       "2       0  ...         0         0         0         0         0         0   \n",
       "3       0  ...         0         0         0         0         0         0   \n",
       "4       0  ...         0         0         0         0         0         0   \n",
       "\n",
       "   pixel780  pixel781  pixel782  pixel783  \n",
       "0         0         0         0         0  \n",
       "1         0         0         0         0  \n",
       "2         0         0         0         0  \n",
       "3         0         0         0         0  \n",
       "4         0         0         0         0  \n",
       "\n",
       "[5 rows x 784 columns]"
      ]
     },
     "execution_count": 6,
     "metadata": {},
     "output_type": "execute_result"
    },
    {
     "data": {
      "text/plain": [
       "range(1, 28001)"
      ]
     },
     "execution_count": 6,
     "metadata": {},
     "output_type": "execute_result"
    }
   ],
   "source": [
    "#Separate label from data\n",
    "\n",
    "\n",
    "labels = df['label']\n",
    "\n",
    "y = df['label']\n",
    "\n",
    "trainimages = df.drop(\"label\", axis = 1)\n",
    "\n",
    "#save test label\n",
    "\n",
    "image_id = range(1, 28001)\n",
    "\n",
    "trainimages.head()\n",
    "\n",
    "image_id\n",
    "\n"
   ]
  },
  {
   "cell_type": "code",
   "execution_count": 128,
   "id": "2800b4d8",
   "metadata": {},
   "outputs": [
    {
     "data": {
      "text/plain": [
       "<Figure size 720x720 with 0 Axes>"
      ]
     },
     "execution_count": 128,
     "metadata": {},
     "output_type": "execute_result"
    },
    {
     "data": {
      "text/plain": [
       "<AxesSubplot:>"
      ]
     },
     "execution_count": 128,
     "metadata": {},
     "output_type": "execute_result"
    },
    {
     "data": {
      "text/plain": [
       "<matplotlib.image.AxesImage at 0x2787fe76340>"
      ]
     },
     "execution_count": 128,
     "metadata": {},
     "output_type": "execute_result"
    },
    {
     "data": {
      "text/plain": [
       "<AxesSubplot:>"
      ]
     },
     "execution_count": 128,
     "metadata": {},
     "output_type": "execute_result"
    },
    {
     "data": {
      "text/plain": [
       "<matplotlib.image.AxesImage at 0x27881bafac0>"
      ]
     },
     "execution_count": 128,
     "metadata": {},
     "output_type": "execute_result"
    },
    {
     "data": {
      "text/plain": [
       "<AxesSubplot:>"
      ]
     },
     "execution_count": 128,
     "metadata": {},
     "output_type": "execute_result"
    },
    {
     "data": {
      "text/plain": [
       "<matplotlib.image.AxesImage at 0x2787ea04250>"
      ]
     },
     "execution_count": 128,
     "metadata": {},
     "output_type": "execute_result"
    },
    {
     "data": {
      "text/plain": [
       "<AxesSubplot:>"
      ]
     },
     "execution_count": 128,
     "metadata": {},
     "output_type": "execute_result"
    },
    {
     "data": {
      "text/plain": [
       "<matplotlib.image.AxesImage at 0x2787e098790>"
      ]
     },
     "execution_count": 128,
     "metadata": {},
     "output_type": "execute_result"
    },
    {
     "data": {
      "text/plain": [
       "<AxesSubplot:>"
      ]
     },
     "execution_count": 128,
     "metadata": {},
     "output_type": "execute_result"
    },
    {
     "data": {
      "text/plain": [
       "<matplotlib.image.AxesImage at 0x2787e0a9ee0>"
      ]
     },
     "execution_count": 128,
     "metadata": {},
     "output_type": "execute_result"
    },
    {
     "data": {
      "text/plain": [
       "<AxesSubplot:>"
      ]
     },
     "execution_count": 128,
     "metadata": {},
     "output_type": "execute_result"
    },
    {
     "data": {
      "text/plain": [
       "<matplotlib.image.AxesImage at 0x2787f113970>"
      ]
     },
     "execution_count": 128,
     "metadata": {},
     "output_type": "execute_result"
    },
    {
     "data": {
      "text/plain": [
       "<AxesSubplot:>"
      ]
     },
     "execution_count": 128,
     "metadata": {},
     "output_type": "execute_result"
    },
    {
     "data": {
      "text/plain": [
       "<matplotlib.image.AxesImage at 0x2787e0a9f10>"
      ]
     },
     "execution_count": 128,
     "metadata": {},
     "output_type": "execute_result"
    },
    {
     "data": {
      "text/plain": [
       "<AxesSubplot:>"
      ]
     },
     "execution_count": 128,
     "metadata": {},
     "output_type": "execute_result"
    },
    {
     "data": {
      "text/plain": [
       "<matplotlib.image.AxesImage at 0x2787fd4ee50>"
      ]
     },
     "execution_count": 128,
     "metadata": {},
     "output_type": "execute_result"
    },
    {
     "data": {
      "text/plain": [
       "<AxesSubplot:>"
      ]
     },
     "execution_count": 128,
     "metadata": {},
     "output_type": "execute_result"
    },
    {
     "data": {
      "text/plain": [
       "<matplotlib.image.AxesImage at 0x2787fd4eaf0>"
      ]
     },
     "execution_count": 128,
     "metadata": {},
     "output_type": "execute_result"
    },
    {
     "data": {
      "text/plain": [
       "<AxesSubplot:>"
      ]
     },
     "execution_count": 128,
     "metadata": {},
     "output_type": "execute_result"
    },
    {
     "data": {
      "text/plain": [
       "<matplotlib.image.AxesImage at 0x2787cf51760>"
      ]
     },
     "execution_count": 128,
     "metadata": {},
     "output_type": "execute_result"
    },
    {
     "data": {
      "text/plain": [
       "<AxesSubplot:>"
      ]
     },
     "execution_count": 128,
     "metadata": {},
     "output_type": "execute_result"
    },
    {
     "data": {
      "text/plain": [
       "<matplotlib.image.AxesImage at 0x27882092b80>"
      ]
     },
     "execution_count": 128,
     "metadata": {},
     "output_type": "execute_result"
    },
    {
     "data": {
      "text/plain": [
       "<AxesSubplot:>"
      ]
     },
     "execution_count": 128,
     "metadata": {},
     "output_type": "execute_result"
    },
    {
     "data": {
      "text/plain": [
       "<matplotlib.image.AxesImage at 0x2787d671fa0>"
      ]
     },
     "execution_count": 128,
     "metadata": {},
     "output_type": "execute_result"
    },
    {
     "data": {
      "text/plain": [
       "<AxesSubplot:>"
      ]
     },
     "execution_count": 128,
     "metadata": {},
     "output_type": "execute_result"
    },
    {
     "data": {
      "text/plain": [
       "<matplotlib.image.AxesImage at 0x27881a4baf0>"
      ]
     },
     "execution_count": 128,
     "metadata": {},
     "output_type": "execute_result"
    },
    {
     "data": {
      "text/plain": [
       "<AxesSubplot:>"
      ]
     },
     "execution_count": 128,
     "metadata": {},
     "output_type": "execute_result"
    },
    {
     "data": {
      "text/plain": [
       "<matplotlib.image.AxesImage at 0x278825caa00>"
      ]
     },
     "execution_count": 128,
     "metadata": {},
     "output_type": "execute_result"
    },
    {
     "data": {
      "text/plain": [
       "<AxesSubplot:>"
      ]
     },
     "execution_count": 128,
     "metadata": {},
     "output_type": "execute_result"
    },
    {
     "data": {
      "text/plain": [
       "<matplotlib.image.AxesImage at 0x2787ec177c0>"
      ]
     },
     "execution_count": 128,
     "metadata": {},
     "output_type": "execute_result"
    },
    {
     "data": {
      "text/plain": [
       "<AxesSubplot:>"
      ]
     },
     "execution_count": 128,
     "metadata": {},
     "output_type": "execute_result"
    },
    {
     "data": {
      "text/plain": [
       "<matplotlib.image.AxesImage at 0x2787ec03fd0>"
      ]
     },
     "execution_count": 128,
     "metadata": {},
     "output_type": "execute_result"
    },
    {
     "data": {
      "text/plain": [
       "<AxesSubplot:>"
      ]
     },
     "execution_count": 128,
     "metadata": {},
     "output_type": "execute_result"
    },
    {
     "data": {
      "text/plain": [
       "<matplotlib.image.AxesImage at 0x2787ddbb5b0>"
      ]
     },
     "execution_count": 128,
     "metadata": {},
     "output_type": "execute_result"
    },
    {
     "data": {
      "text/plain": [
       "<AxesSubplot:>"
      ]
     },
     "execution_count": 128,
     "metadata": {},
     "output_type": "execute_result"
    },
    {
     "data": {
      "text/plain": [
       "<matplotlib.image.AxesImage at 0x2787ddd1d60>"
      ]
     },
     "execution_count": 128,
     "metadata": {},
     "output_type": "execute_result"
    },
    {
     "data": {
      "text/plain": [
       "<AxesSubplot:>"
      ]
     },
     "execution_count": 128,
     "metadata": {},
     "output_type": "execute_result"
    },
    {
     "data": {
      "text/plain": [
       "<matplotlib.image.AxesImage at 0x2787fe44220>"
      ]
     },
     "execution_count": 128,
     "metadata": {},
     "output_type": "execute_result"
    },
    {
     "data": {
      "text/plain": [
       "<AxesSubplot:>"
      ]
     },
     "execution_count": 128,
     "metadata": {},
     "output_type": "execute_result"
    },
    {
     "data": {
      "text/plain": [
       "<matplotlib.image.AxesImage at 0x27880b3e310>"
      ]
     },
     "execution_count": 128,
     "metadata": {},
     "output_type": "execute_result"
    },
    {
     "data": {
      "text/plain": [
       "<AxesSubplot:>"
      ]
     },
     "execution_count": 128,
     "metadata": {},
     "output_type": "execute_result"
    },
    {
     "data": {
      "text/plain": [
       "<matplotlib.image.AxesImage at 0x278824b2f10>"
      ]
     },
     "execution_count": 128,
     "metadata": {},
     "output_type": "execute_result"
    },
    {
     "data": {
      "text/plain": [
       "<AxesSubplot:>"
      ]
     },
     "execution_count": 128,
     "metadata": {},
     "output_type": "execute_result"
    },
    {
     "data": {
      "text/plain": [
       "<matplotlib.image.AxesImage at 0x2787e90b940>"
      ]
     },
     "execution_count": 128,
     "metadata": {},
     "output_type": "execute_result"
    },
    {
     "data": {
      "text/plain": [
       "<AxesSubplot:>"
      ]
     },
     "execution_count": 128,
     "metadata": {},
     "output_type": "execute_result"
    },
    {
     "data": {
      "text/plain": [
       "<matplotlib.image.AxesImage at 0x2787f04dd90>"
      ]
     },
     "execution_count": 128,
     "metadata": {},
     "output_type": "execute_result"
    },
    {
     "data": {
      "text/plain": [
       "<AxesSubplot:>"
      ]
     },
     "execution_count": 128,
     "metadata": {},
     "output_type": "execute_result"
    },
    {
     "data": {
      "text/plain": [
       "<matplotlib.image.AxesImage at 0x2787f036550>"
      ]
     },
     "execution_count": 128,
     "metadata": {},
     "output_type": "execute_result"
    },
    {
     "data": {
      "text/plain": [
       "<AxesSubplot:>"
      ]
     },
     "execution_count": 128,
     "metadata": {},
     "output_type": "execute_result"
    },
    {
     "data": {
      "text/plain": [
       "<matplotlib.image.AxesImage at 0x2787e3fe220>"
      ]
     },
     "execution_count": 128,
     "metadata": {},
     "output_type": "execute_result"
    },
    {
     "data": {
      "image/png": "[encoded data removed]",
      "text/plain": [
       "<Figure size 720x720 with 25 Axes>"
      ]
     },
     "metadata": {},
     "output_type": "display_data"
    }
   ],
   "source": [
    "test_plot = tf.constant(np.array(X_test), dtype = tf.float32)\n",
    "\n",
    "plt.figure(figsize = (10, 10));\n",
    "count = 1\n",
    "idd = 0\n",
    "for i in range(5):\n",
    "    for j in range(5):\n",
    "        plt.subplot(5, 5, count)\n",
    "        plt.imshow(tf.constant(test_plot[idd, :], shape = [28, 28]), cmap = 'gray');\n",
    "        idd += 1;\n",
    "        count += 1;"
   ]
  },
  {
   "cell_type": "code",
   "execution_count": 7,
   "id": "9bb61be2",
   "metadata": {},
   "outputs": [
    {
     "data": {
      "text/plain": [
       "Text(0.5, 1.0, 'Distribution of Labels')"
      ]
     },
     "execution_count": 7,
     "metadata": {},
     "output_type": "execute_result"
    },
    {
     "data": {
      "text/plain": [
       "<AxesSubplot:title={'center':'Distribution of Labels'}, xlabel='label', ylabel='Count'>"
      ]
     },
     "execution_count": 7,
     "metadata": {},
     "output_type": "execute_result"
    },
    {
     "name": "stdout",
     "output_type": "stream",
     "text": [
      "Skew: 0.026479251883621335\n",
      "Kurtosis: -1.2525053342308414\n"
     ]
    },
    {
     "data": {
      "image/png": "[encoded data removed]",
      "text/plain": [
       "<Figure size 432x288 with 1 Axes>"
      ]
     },
     "metadata": {},
     "output_type": "display_data"
    }
   ],
   "source": [
    "plt.title(\"Distribution of Labels\")\n",
    "sns.histplot(labels);\n",
    "\n",
    "print( 'Skew: {}'.format(skew( labels, bias=False) ))\n",
    "\n",
    "print( 'Kurtosis: {}'.format(kurtosis( labels, bias=False) ))"
   ]
  },
  {
   "cell_type": "code",
   "execution_count": 8,
   "id": "2d030881",
   "metadata": {},
   "outputs": [
    {
     "data": {
      "text/plain": [
       "label       0\n",
       "pixel515    0\n",
       "pixel517    0\n",
       "pixel518    0\n",
       "pixel519    0\n",
       "pixel520    0\n",
       "pixel521    0\n",
       "pixel522    0\n",
       "pixel523    0\n",
       "pixel524    0\n",
       "pixel525    0\n",
       "pixel526    0\n",
       "pixel527    0\n",
       "pixel528    0\n",
       "pixel529    0\n",
       "pixel530    0\n",
       "pixel531    0\n",
       "pixel532    0\n",
       "pixel533    0\n",
       "pixel534    0\n",
       "dtype: int64"
      ]
     },
     "execution_count": 8,
     "metadata": {},
     "output_type": "execute_result"
    }
   ],
   "source": [
    "df.isnull().sum().sort_values(ascending=False).head(20)"
   ]
  },
  {
   "cell_type": "markdown",
   "id": "53fea51b",
   "metadata": {},
   "source": [
    "<div style=\"background-color:lightblue;\">\n",
    "Random Forest Model\n",
    "</div>"
   ]
  },
  {
   "cell_type": "code",
   "execution_count": 8,
   "id": "8abe45ef",
   "metadata": {},
   "outputs": [
    {
     "data": {
      "text/plain": [
       "RandomForestClassifier(random_state=777)"
      ]
     },
     "execution_count": 8,
     "metadata": {},
     "output_type": "execute_result"
    },
    {
     "name": "stdout",
     "output_type": "stream",
     "text": [
      "0:00:22.874297\n"
     ]
    }
   ],
   "source": [
    "# fit model\n",
    "\n",
    "from sklearn.ensemble import RandomForestClassifier\n",
    "\n",
    "clf = RandomForestClassifier(random_state = 777)\n",
    "\n",
    "# fit the model to the training set and record time to fit\n",
    "\n",
    "start=datetime.datetime.now()\n",
    "\n",
    "clf.fit(trainimages, labels)\n",
    "\n",
    "end=datetime.datetime.now()\n",
    "print(end-start)"
   ]
  },
  {
   "cell_type": "code",
   "execution_count": 9,
   "id": "f7494acf",
   "metadata": {},
   "outputs": [
    {
     "data": {
      "text/html": [
       "<div>\n",
       "<style scoped>\n",
       "    .dataframe tbody tr th:only-of-type {\n",
       "        vertical-align: middle;\n",
       "    }\n",
       "\n",
       "    .dataframe tbody tr th {\n",
       "        vertical-align: top;\n",
       "    }\n",
       "\n",
       "    .dataframe thead th {\n",
       "        text-align: right;\n",
       "    }\n",
       "</style>\n",
       "<table border=\"1\" class=\"dataframe\">\n",
       "  <thead>\n",
       "    <tr style=\"text-align: right;\">\n",
       "      <th></th>\n",
       "      <th>ImageId</th>\n",
       "      <th>Label</th>\n",
       "    </tr>\n",
       "  </thead>\n",
       "  <tbody>\n",
       "    <tr>\n",
       "      <th>0</th>\n",
       "      <td>1</td>\n",
       "      <td>2</td>\n",
       "    </tr>\n",
       "    <tr>\n",
       "      <th>1</th>\n",
       "      <td>2</td>\n",
       "      <td>0</td>\n",
       "    </tr>\n",
       "    <tr>\n",
       "      <th>2</th>\n",
       "      <td>3</td>\n",
       "      <td>9</td>\n",
       "    </tr>\n",
       "    <tr>\n",
       "      <th>3</th>\n",
       "      <td>4</td>\n",
       "      <td>9</td>\n",
       "    </tr>\n",
       "    <tr>\n",
       "      <th>4</th>\n",
       "      <td>5</td>\n",
       "      <td>3</td>\n",
       "    </tr>\n",
       "  </tbody>\n",
       "</table>\n",
       "</div>"
      ],
      "text/plain": [
       "   ImageId  Label\n",
       "0        1      2\n",
       "1        2      0\n",
       "2        3      9\n",
       "3        4      9\n",
       "4        5      3"
      ]
     },
     "execution_count": 9,
     "metadata": {},
     "output_type": "execute_result"
    },
    {
     "data": {
      "text/plain": [
       "(28000, 2)"
      ]
     },
     "execution_count": 9,
     "metadata": {},
     "output_type": "execute_result"
    }
   ],
   "source": [
    "pred1 = clf.predict(df_test)\n",
    "\n",
    "submit = pd.DataFrame()\n",
    "\n",
    "submit['ImageId'] = image_id\n",
    "submit['Label'] = pred1\n",
    "\n",
    "submit.to_csv('submission1.csv',index=False)\n",
    "\n",
    "submit.head()\n",
    "\n",
    "submit.shape"
   ]
  },
  {
   "cell_type": "code",
   "execution_count": 10,
   "id": "7ae95100",
   "metadata": {},
   "outputs": [],
   "source": [
    "# Tune Random Forest Model\n",
    "# Hyper parameters to tune:\n",
    "\n",
    "# Number of trees in random forest\n",
    "n_estimators = [int(x) for x in np.linspace(start = 50, stop = 250, num = 10)]\n",
    "\n",
    "# Number of features to consider at every split\n",
    "max_features = ['auto', 'sqrt']\n",
    "\n",
    "# Maximum number of levels in tree\n",
    "max_depth = [int(x) for x in np.linspace(10, 110, num = 10)]\n",
    "\n",
    "\n",
    "#Criteria for measuring quality of split\n",
    "criteria = ['gini', 'entropy']\n",
    "\n",
    "\n",
    "# Create the random grid\n",
    "param_grid = {'n_estimators': n_estimators,\n",
    "               'max_features': max_features,\n",
    "               'max_depth': max_depth,\n",
    "               'criterion': criteria}\n"
   ]
  },
  {
   "cell_type": "code",
   "execution_count": 11,
   "id": "01a41854",
   "metadata": {},
   "outputs": [
    {
     "name": "stdout",
     "output_type": "stream",
     "text": [
      "Fitting 3 folds for each of 20 candidates, totalling 60 fits\n"
     ]
    },
    {
     "data": {
      "text/plain": [
       "RandomizedSearchCV(cv=3, estimator=RandomForestClassifier(random_state=777),\n",
       "                   n_iter=20, n_jobs=-1,\n",
       "                   param_distributions={'criterion': ['gini', 'entropy'],\n",
       "                                        'max_depth': [10, 21, 32, 43, 54, 65,\n",
       "                                                      76, 87, 98, 110],\n",
       "                                        'max_features': ['auto', 'sqrt'],\n",
       "                                        'n_estimators': [50, 72, 94, 116, 138,\n",
       "                                                         161, 183, 205, 227,\n",
       "                                                         250]},\n",
       "                   random_state=42, verbose=2)"
      ]
     },
     "execution_count": 11,
     "metadata": {},
     "output_type": "execute_result"
    },
    {
     "name": "stdout",
     "output_type": "stream",
     "text": [
      "0:06:04.480264\n"
     ]
    },
    {
     "data": {
      "text/plain": [
       "{'n_estimators': 183,\n",
       " 'max_features': 'sqrt',\n",
       " 'max_depth': 32,\n",
       " 'criterion': 'gini'}"
      ]
     },
     "execution_count": 11,
     "metadata": {},
     "output_type": "execute_result"
    }
   ],
   "source": [
    "# Import halving grid search function to speed up tuning over grid search cv:\n",
    "from sklearn.model_selection import RandomizedSearchCV\n",
    "\n",
    "clf = RandomForestClassifier(random_state = 777)\n",
    "\n",
    "\n",
    "search = RandomizedSearchCV(estimator = clf, param_distributions = param_grid, n_iter = 20, cv = 3, verbose=2, random_state=42, n_jobs = -1)\n",
    "\n",
    "start=datetime.datetime.now()\n",
    "\n",
    "search.fit(trainimages, labels)\n",
    "\n",
    "end=datetime.datetime.now()\n",
    "print(end-start)\n",
    "\n",
    "search.best_params_"
   ]
  },
  {
   "cell_type": "code",
   "execution_count": 12,
   "id": "7069a3c0",
   "metadata": {},
   "outputs": [
    {
     "data": {
      "text/html": [
       "<div>\n",
       "<style scoped>\n",
       "    .dataframe tbody tr th:only-of-type {\n",
       "        vertical-align: middle;\n",
       "    }\n",
       "\n",
       "    .dataframe tbody tr th {\n",
       "        vertical-align: top;\n",
       "    }\n",
       "\n",
       "    .dataframe thead th {\n",
       "        text-align: right;\n",
       "    }\n",
       "</style>\n",
       "<table border=\"1\" class=\"dataframe\">\n",
       "  <thead>\n",
       "    <tr style=\"text-align: right;\">\n",
       "      <th></th>\n",
       "      <th>ImageId</th>\n",
       "      <th>Label</th>\n",
       "    </tr>\n",
       "  </thead>\n",
       "  <tbody>\n",
       "    <tr>\n",
       "      <th>0</th>\n",
       "      <td>1</td>\n",
       "      <td>2</td>\n",
       "    </tr>\n",
       "    <tr>\n",
       "      <th>1</th>\n",
       "      <td>2</td>\n",
       "      <td>0</td>\n",
       "    </tr>\n",
       "    <tr>\n",
       "      <th>2</th>\n",
       "      <td>3</td>\n",
       "      <td>9</td>\n",
       "    </tr>\n",
       "    <tr>\n",
       "      <th>3</th>\n",
       "      <td>4</td>\n",
       "      <td>9</td>\n",
       "    </tr>\n",
       "    <tr>\n",
       "      <th>4</th>\n",
       "      <td>5</td>\n",
       "      <td>3</td>\n",
       "    </tr>\n",
       "  </tbody>\n",
       "</table>\n",
       "</div>"
      ],
      "text/plain": [
       "   ImageId  Label\n",
       "0        1      2\n",
       "1        2      0\n",
       "2        3      9\n",
       "3        4      9\n",
       "4        5      3"
      ]
     },
     "execution_count": 12,
     "metadata": {},
     "output_type": "execute_result"
    },
    {
     "data": {
      "text/plain": [
       "(28000, 2)"
      ]
     },
     "execution_count": 12,
     "metadata": {},
     "output_type": "execute_result"
    }
   ],
   "source": [
    "pred = search.predict(df_test)\n",
    "\n",
    "submit = pd.DataFrame()\n",
    "\n",
    "submit['ImageId'] = image_id\n",
    "submit['Label'] = pred\n",
    "\n",
    "submit.to_csv('submission2.csv',index=False)\n",
    "\n",
    "submit.head()\n",
    "\n",
    "submit.shape"
   ]
  },
  {
   "cell_type": "markdown",
   "id": "4743834b",
   "metadata": {},
   "source": [
    "<div style=\"background-color:lightgreen;\">\n",
    "Combine Data Sets for PCA\n",
    "</div>"
   ]
  },
  {
   "cell_type": "code",
   "execution_count": 9,
   "id": "7e091bfb",
   "metadata": {},
   "outputs": [
    {
     "data": {
      "text/html": [
       "<div>\n",
       "<style scoped>\n",
       "    .dataframe tbody tr th:only-of-type {\n",
       "        vertical-align: middle;\n",
       "    }\n",
       "\n",
       "    .dataframe tbody tr th {\n",
       "        vertical-align: top;\n",
       "    }\n",
       "\n",
       "    .dataframe thead th {\n",
       "        text-align: right;\n",
       "    }\n",
       "</style>\n",
       "<table border=\"1\" class=\"dataframe\">\n",
       "  <thead>\n",
       "    <tr style=\"text-align: right;\">\n",
       "      <th></th>\n",
       "      <th>pixel0</th>\n",
       "      <th>pixel1</th>\n",
       "      <th>pixel2</th>\n",
       "      <th>pixel3</th>\n",
       "      <th>pixel4</th>\n",
       "      <th>pixel5</th>\n",
       "      <th>pixel6</th>\n",
       "      <th>pixel7</th>\n",
       "      <th>pixel8</th>\n",
       "      <th>pixel9</th>\n",
       "      <th>...</th>\n",
       "      <th>pixel774</th>\n",
       "      <th>pixel775</th>\n",
       "      <th>pixel776</th>\n",
       "      <th>pixel777</th>\n",
       "      <th>pixel778</th>\n",
       "      <th>pixel779</th>\n",
       "      <th>pixel780</th>\n",
       "      <th>pixel781</th>\n",
       "      <th>pixel782</th>\n",
       "      <th>pixel783</th>\n",
       "    </tr>\n",
       "  </thead>\n",
       "  <tbody>\n",
       "    <tr>\n",
       "      <th>0</th>\n",
       "      <td>0</td>\n",
       "      <td>0</td>\n",
       "      <td>0</td>\n",
       "      <td>0</td>\n",
       "      <td>0</td>\n",
       "      <td>0</td>\n",
       "      <td>0</td>\n",
       "      <td>0</td>\n",
       "      <td>0</td>\n",
       "      <td>0</td>\n",
       "      <td>...</td>\n",
       "      <td>0</td>\n",
       "      <td>0</td>\n",
       "      <td>0</td>\n",
       "      <td>0</td>\n",
       "      <td>0</td>\n",
       "      <td>0</td>\n",
       "      <td>0</td>\n",
       "      <td>0</td>\n",
       "      <td>0</td>\n",
       "      <td>0</td>\n",
       "    </tr>\n",
       "    <tr>\n",
       "      <th>1</th>\n",
       "      <td>0</td>\n",
       "      <td>0</td>\n",
       "      <td>0</td>\n",
       "      <td>0</td>\n",
       "      <td>0</td>\n",
       "      <td>0</td>\n",
       "      <td>0</td>\n",
       "      <td>0</td>\n",
       "      <td>0</td>\n",
       "      <td>0</td>\n",
       "      <td>...</td>\n",
       "      <td>0</td>\n",
       "      <td>0</td>\n",
       "      <td>0</td>\n",
       "      <td>0</td>\n",
       "      <td>0</td>\n",
       "      <td>0</td>\n",
       "      <td>0</td>\n",
       "      <td>0</td>\n",
       "      <td>0</td>\n",
       "      <td>0</td>\n",
       "    </tr>\n",
       "    <tr>\n",
       "      <th>2</th>\n",
       "      <td>0</td>\n",
       "      <td>0</td>\n",
       "      <td>0</td>\n",
       "      <td>0</td>\n",
       "      <td>0</td>\n",
       "      <td>0</td>\n",
       "      <td>0</td>\n",
       "      <td>0</td>\n",
       "      <td>0</td>\n",
       "      <td>0</td>\n",
       "      <td>...</td>\n",
       "      <td>0</td>\n",
       "      <td>0</td>\n",
       "      <td>0</td>\n",
       "      <td>0</td>\n",
       "      <td>0</td>\n",
       "      <td>0</td>\n",
       "      <td>0</td>\n",
       "      <td>0</td>\n",
       "      <td>0</td>\n",
       "      <td>0</td>\n",
       "    </tr>\n",
       "    <tr>\n",
       "      <th>3</th>\n",
       "      <td>0</td>\n",
       "      <td>0</td>\n",
       "      <td>0</td>\n",
       "      <td>0</td>\n",
       "      <td>0</td>\n",
       "      <td>0</td>\n",
       "      <td>0</td>\n",
       "      <td>0</td>\n",
       "      <td>0</td>\n",
       "      <td>0</td>\n",
       "      <td>...</td>\n",
       "      <td>0</td>\n",
       "      <td>0</td>\n",
       "      <td>0</td>\n",
       "      <td>0</td>\n",
       "      <td>0</td>\n",
       "      <td>0</td>\n",
       "      <td>0</td>\n",
       "      <td>0</td>\n",
       "      <td>0</td>\n",
       "      <td>0</td>\n",
       "    </tr>\n",
       "    <tr>\n",
       "      <th>4</th>\n",
       "      <td>0</td>\n",
       "      <td>0</td>\n",
       "      <td>0</td>\n",
       "      <td>0</td>\n",
       "      <td>0</td>\n",
       "      <td>0</td>\n",
       "      <td>0</td>\n",
       "      <td>0</td>\n",
       "      <td>0</td>\n",
       "      <td>0</td>\n",
       "      <td>...</td>\n",
       "      <td>0</td>\n",
       "      <td>0</td>\n",
       "      <td>0</td>\n",
       "      <td>0</td>\n",
       "      <td>0</td>\n",
       "      <td>0</td>\n",
       "      <td>0</td>\n",
       "      <td>0</td>\n",
       "      <td>0</td>\n",
       "      <td>0</td>\n",
       "    </tr>\n",
       "  </tbody>\n",
       "</table>\n",
       "<p>5 rows × 784 columns</p>\n",
       "</div>"
      ],
      "text/plain": [
       "   pixel0  pixel1  pixel2  pixel3  pixel4  pixel5  pixel6  pixel7  pixel8  \\\n",
       "0       0       0       0       0       0       0       0       0       0   \n",
       "1       0       0       0       0       0       0       0       0       0   \n",
       "2       0       0       0       0       0       0       0       0       0   \n",
       "3       0       0       0       0       0       0       0       0       0   \n",
       "4       0       0       0       0       0       0       0       0       0   \n",
       "\n",
       "   pixel9  ...  pixel774  pixel775  pixel776  pixel777  pixel778  pixel779  \\\n",
       "0       0  ...         0         0         0         0         0         0   \n",
       "1       0  ...         0         0         0         0         0         0   \n",
       "2       0  ...         0         0         0         0         0         0   \n",
       "3       0  ...         0         0         0         0         0         0   \n",
       "4       0  ...         0         0         0         0         0         0   \n",
       "\n",
       "   pixel780  pixel781  pixel782  pixel783  \n",
       "0         0         0         0         0  \n",
       "1         0         0         0         0  \n",
       "2         0         0         0         0  \n",
       "3         0         0         0         0  \n",
       "4         0         0         0         0  \n",
       "\n",
       "[5 rows x 784 columns]"
      ]
     },
     "execution_count": 9,
     "metadata": {},
     "output_type": "execute_result"
    },
    {
     "data": {
      "text/plain": [
       "(70000, 784)"
      ]
     },
     "execution_count": 9,
     "metadata": {},
     "output_type": "execute_result"
    },
    {
     "data": {
      "text/plain": [
       "0      69887\n",
       "253       12\n",
       "3          6\n",
       "252        3\n",
       "6          3\n",
       "       ...  \n",
       "68         1\n",
       "226        1\n",
       "67         1\n",
       "163        1\n",
       "95         1\n",
       "Name: pixel774, Length: 78, dtype: int64"
      ]
     },
     "execution_count": 9,
     "metadata": {},
     "output_type": "execute_result"
    }
   ],
   "source": [
    "#merge data into one dataframe\n",
    "\n",
    "df_comb = pd.concat([trainimages, df_test])\n",
    "\n",
    "df_comb.head()\n",
    "df_comb.shape\n",
    "\n",
    "#look at value distribution to see if scaling is necessary\n",
    "\n",
    "df_comb['pixel774'].value_counts()"
   ]
  },
  {
   "cell_type": "code",
   "execution_count": 10,
   "id": "3ccc924a",
   "metadata": {},
   "outputs": [
    {
     "data": {
      "text/plain": [
       "<Figure size 1080x720 with 0 Axes>"
      ]
     },
     "execution_count": 10,
     "metadata": {},
     "output_type": "execute_result"
    },
    {
     "data": {
      "text/plain": [
       "<BarContainer object of 784 artists>"
      ]
     },
     "execution_count": 10,
     "metadata": {},
     "output_type": "execute_result"
    },
    {
     "data": {
      "text/plain": [
       "[<matplotlib.lines.Line2D at 0x278338e1040>]"
      ]
     },
     "execution_count": 10,
     "metadata": {},
     "output_type": "execute_result"
    },
    {
     "data": {
      "text/plain": [
       "Text(0, 0.5, 'Explained variance ratio')"
      ]
     },
     "execution_count": 10,
     "metadata": {},
     "output_type": "execute_result"
    },
    {
     "data": {
      "text/plain": [
       "Text(0.5, 0, 'Principal component index')"
      ]
     },
     "execution_count": 10,
     "metadata": {},
     "output_type": "execute_result"
    },
    {
     "data": {
      "text/plain": [
       "<matplotlib.legend.Legend at 0x2782af6c160>"
      ]
     },
     "execution_count": 10,
     "metadata": {},
     "output_type": "execute_result"
    },
    {
     "data": {
      "text/plain": [
       "<matplotlib.lines.Line2D at 0x278338cff10>"
      ]
     },
     "execution_count": 10,
     "metadata": {},
     "output_type": "execute_result"
    },
    {
     "data": {
      "image/png": "[encoded data removed]",
      "text/plain": [
       "<Figure size 1080x720 with 1 Axes>"
      ]
     },
     "metadata": {},
     "output_type": "display_data"
    }
   ],
   "source": [
    "#conduct pca on explanatory variables\n",
    "\n",
    "from sklearn.decomposition import PCA\n",
    "from sklearn.preprocessing import StandardScaler\n",
    "\n",
    "\n",
    "pca = PCA()\n",
    "\n",
    "df_pca = pca.fit_transform(df_comb)\n",
    "\n",
    "exp_var_pca = pca.explained_variance_ratio_\n",
    "\n",
    "cum_sum_eigenvalues = np.cumsum(exp_var_pca)\n",
    "\n",
    "plt.figure(figsize=(15,10))\n",
    "plt.bar(range(0,len(exp_var_pca)), exp_var_pca, alpha=0.5, align='center', label='Individual explained variance')\n",
    "plt.step(range(0,len(cum_sum_eigenvalues)), cum_sum_eigenvalues, where='mid',label='Cumulative explained variance')\n",
    "plt.ylabel('Explained variance ratio')\n",
    "plt.xlabel('Principal component index')\n",
    "plt.legend(loc='best')\n",
    "plt.axhline(y=0.95, color='r', linestyle='-')\n",
    "plt.tight_layout()\n",
    "plt.show()"
   ]
  },
  {
   "cell_type": "code",
   "execution_count": 11,
   "id": "9519a30f",
   "metadata": {},
   "outputs": [
    {
     "data": {
      "text/plain": [
       "PCA(n_components=0.95)"
      ]
     },
     "execution_count": 11,
     "metadata": {},
     "output_type": "execute_result"
    },
    {
     "name": "stdout",
     "output_type": "stream",
     "text": [
      "0:00:03.882187\n",
      "Number of components to explain 95% Variance is 154\n"
     ]
    }
   ],
   "source": [
    "#fit so 95% of variance is explained\n",
    "\n",
    "start=datetime.datetime.now()\n",
    "\n",
    "pca = PCA(n_components = 0.95)\n",
    "pca.fit(df_comb)\n",
    "\n",
    "end=datetime.datetime.now()\n",
    "print(end-start)\n",
    "\n",
    "print('Number of components to explain 95% Variance is',pca.n_components_)"
   ]
  },
  {
   "cell_type": "code",
   "execution_count": 12,
   "id": "e2fe864e",
   "metadata": {},
   "outputs": [
    {
     "data": {
      "text/html": [
       "<div>\n",
       "<style scoped>\n",
       "    .dataframe tbody tr th:only-of-type {\n",
       "        vertical-align: middle;\n",
       "    }\n",
       "\n",
       "    .dataframe tbody tr th {\n",
       "        vertical-align: top;\n",
       "    }\n",
       "\n",
       "    .dataframe thead th {\n",
       "        text-align: right;\n",
       "    }\n",
       "</style>\n",
       "<table border=\"1\" class=\"dataframe\">\n",
       "  <thead>\n",
       "    <tr style=\"text-align: right;\">\n",
       "      <th></th>\n",
       "      <th>pca_comp_0</th>\n",
       "      <th>pca_comp_1</th>\n",
       "      <th>pca_comp_2</th>\n",
       "      <th>pca_comp_3</th>\n",
       "      <th>pca_comp_4</th>\n",
       "      <th>pca_comp_5</th>\n",
       "      <th>pca_comp_6</th>\n",
       "      <th>pca_comp_7</th>\n",
       "      <th>pca_comp_8</th>\n",
       "      <th>pca_comp_9</th>\n",
       "      <th>...</th>\n",
       "      <th>pca_comp_144</th>\n",
       "      <th>pca_comp_145</th>\n",
       "      <th>pca_comp_146</th>\n",
       "      <th>pca_comp_147</th>\n",
       "      <th>pca_comp_148</th>\n",
       "      <th>pca_comp_149</th>\n",
       "      <th>pca_comp_150</th>\n",
       "      <th>pca_comp_151</th>\n",
       "      <th>pca_comp_152</th>\n",
       "      <th>pca_comp_153</th>\n",
       "    </tr>\n",
       "  </thead>\n",
       "  <tbody>\n",
       "    <tr>\n",
       "      <th>0</th>\n",
       "      <td>-675.625509</td>\n",
       "      <td>-682.915808</td>\n",
       "      <td>186.498640</td>\n",
       "      <td>127.289953</td>\n",
       "      <td>-78.365677</td>\n",
       "      <td>488.125117</td>\n",
       "      <td>-692.041655</td>\n",
       "      <td>82.896481</td>\n",
       "      <td>327.166953</td>\n",
       "      <td>203.119568</td>\n",
       "      <td>...</td>\n",
       "      <td>-38.562372</td>\n",
       "      <td>50.957580</td>\n",
       "      <td>17.017551</td>\n",
       "      <td>-5.277069</td>\n",
       "      <td>18.204052</td>\n",
       "      <td>-9.352243</td>\n",
       "      <td>-31.701080</td>\n",
       "      <td>-10.899018</td>\n",
       "      <td>-16.321949</td>\n",
       "      <td>63.566239</td>\n",
       "    </tr>\n",
       "    <tr>\n",
       "      <th>1</th>\n",
       "      <td>1690.625135</td>\n",
       "      <td>-402.068266</td>\n",
       "      <td>-488.585115</td>\n",
       "      <td>346.731780</td>\n",
       "      <td>-453.005179</td>\n",
       "      <td>737.156898</td>\n",
       "      <td>662.036984</td>\n",
       "      <td>-181.674905</td>\n",
       "      <td>-4.001588</td>\n",
       "      <td>67.466851</td>\n",
       "      <td>...</td>\n",
       "      <td>-42.450789</td>\n",
       "      <td>9.898692</td>\n",
       "      <td>14.207084</td>\n",
       "      <td>-29.815676</td>\n",
       "      <td>-66.609418</td>\n",
       "      <td>-0.928763</td>\n",
       "      <td>6.923119</td>\n",
       "      <td>-26.579554</td>\n",
       "      <td>-7.829073</td>\n",
       "      <td>-42.798186</td>\n",
       "    </tr>\n",
       "    <tr>\n",
       "      <th>2</th>\n",
       "      <td>-890.131113</td>\n",
       "      <td>-275.559563</td>\n",
       "      <td>79.442720</td>\n",
       "      <td>72.924640</td>\n",
       "      <td>-471.184005</td>\n",
       "      <td>-334.469890</td>\n",
       "      <td>438.114151</td>\n",
       "      <td>-297.464086</td>\n",
       "      <td>-196.553054</td>\n",
       "      <td>-20.046388</td>\n",
       "      <td>...</td>\n",
       "      <td>13.130675</td>\n",
       "      <td>-20.447820</td>\n",
       "      <td>38.520990</td>\n",
       "      <td>9.372011</td>\n",
       "      <td>52.771912</td>\n",
       "      <td>-13.503393</td>\n",
       "      <td>24.877741</td>\n",
       "      <td>0.547651</td>\n",
       "      <td>-18.987404</td>\n",
       "      <td>-9.329702</td>\n",
       "    </tr>\n",
       "    <tr>\n",
       "      <th>3</th>\n",
       "      <td>-158.531459</td>\n",
       "      <td>302.925905</td>\n",
       "      <td>-66.531553</td>\n",
       "      <td>766.136173</td>\n",
       "      <td>-425.946836</td>\n",
       "      <td>150.842902</td>\n",
       "      <td>-299.858993</td>\n",
       "      <td>276.099877</td>\n",
       "      <td>-57.491297</td>\n",
       "      <td>-286.775435</td>\n",
       "      <td>...</td>\n",
       "      <td>15.712865</td>\n",
       "      <td>-76.442828</td>\n",
       "      <td>110.721354</td>\n",
       "      <td>41.938794</td>\n",
       "      <td>65.513436</td>\n",
       "      <td>-76.629422</td>\n",
       "      <td>7.539518</td>\n",
       "      <td>-8.410661</td>\n",
       "      <td>-3.808165</td>\n",
       "      <td>-44.298437</td>\n",
       "    </tr>\n",
       "    <tr>\n",
       "      <th>4</th>\n",
       "      <td>1908.674338</td>\n",
       "      <td>-492.370459</td>\n",
       "      <td>-525.761544</td>\n",
       "      <td>203.054935</td>\n",
       "      <td>-663.649909</td>\n",
       "      <td>990.467203</td>\n",
       "      <td>572.753923</td>\n",
       "      <td>-256.950735</td>\n",
       "      <td>127.437184</td>\n",
       "      <td>176.518499</td>\n",
       "      <td>...</td>\n",
       "      <td>34.296855</td>\n",
       "      <td>6.831532</td>\n",
       "      <td>0.346457</td>\n",
       "      <td>-34.037500</td>\n",
       "      <td>-61.297883</td>\n",
       "      <td>66.089466</td>\n",
       "      <td>-61.341104</td>\n",
       "      <td>61.185672</td>\n",
       "      <td>-86.029922</td>\n",
       "      <td>-41.986822</td>\n",
       "    </tr>\n",
       "  </tbody>\n",
       "</table>\n",
       "<p>5 rows × 154 columns</p>\n",
       "</div>"
      ],
      "text/plain": [
       "    pca_comp_0  pca_comp_1  pca_comp_2  pca_comp_3  pca_comp_4  pca_comp_5  \\\n",
       "0  -675.625509 -682.915808  186.498640  127.289953  -78.365677  488.125117   \n",
       "1  1690.625135 -402.068266 -488.585115  346.731780 -453.005179  737.156898   \n",
       "2  -890.131113 -275.559563   79.442720   72.924640 -471.184005 -334.469890   \n",
       "3  -158.531459  302.925905  -66.531553  766.136173 -425.946836  150.842902   \n",
       "4  1908.674338 -492.370459 -525.761544  203.054935 -663.649909  990.467203   \n",
       "\n",
       "   pca_comp_6  pca_comp_7  pca_comp_8  pca_comp_9  ...  pca_comp_144  \\\n",
       "0 -692.041655   82.896481  327.166953  203.119568  ...    -38.562372   \n",
       "1  662.036984 -181.674905   -4.001588   67.466851  ...    -42.450789   \n",
       "2  438.114151 -297.464086 -196.553054  -20.046388  ...     13.130675   \n",
       "3 -299.858993  276.099877  -57.491297 -286.775435  ...     15.712865   \n",
       "4  572.753923 -256.950735  127.437184  176.518499  ...     34.296855   \n",
       "\n",
       "   pca_comp_145  pca_comp_146  pca_comp_147  pca_comp_148  pca_comp_149  \\\n",
       "0     50.957580     17.017551     -5.277069     18.204052     -9.352243   \n",
       "1      9.898692     14.207084    -29.815676    -66.609418     -0.928763   \n",
       "2    -20.447820     38.520990      9.372011     52.771912    -13.503393   \n",
       "3    -76.442828    110.721354     41.938794     65.513436    -76.629422   \n",
       "4      6.831532      0.346457    -34.037500    -61.297883     66.089466   \n",
       "\n",
       "   pca_comp_150  pca_comp_151  pca_comp_152  pca_comp_153  \n",
       "0    -31.701080    -10.899018    -16.321949     63.566239  \n",
       "1      6.923119    -26.579554     -7.829073    -42.798186  \n",
       "2     24.877741      0.547651    -18.987404     -9.329702  \n",
       "3      7.539518     -8.410661     -3.808165    -44.298437  \n",
       "4    -61.341104     61.185672    -86.029922    -41.986822  \n",
       "\n",
       "[5 rows x 154 columns]"
      ]
     },
     "execution_count": 12,
     "metadata": {},
     "output_type": "execute_result"
    },
    {
     "data": {
      "text/plain": [
       "(70000, 154)"
      ]
     },
     "execution_count": 12,
     "metadata": {},
     "output_type": "execute_result"
    }
   ],
   "source": [
    "# Put into Dataframe\n",
    "\n",
    "columns = ['pca_comp_%i' % i for i in range(154)]\n",
    "df_pca  = pd.DataFrame(pca.transform(df_comb), columns=columns, index=df_comb.index)\n",
    "df_pca.head()\n",
    "\n",
    "df_pca.shape\n"
   ]
  },
  {
   "cell_type": "code",
   "execution_count": 13,
   "id": "c36b949a",
   "metadata": {},
   "outputs": [
    {
     "data": {
      "text/plain": [
       "(42000, 154)"
      ]
     },
     "execution_count": 13,
     "metadata": {},
     "output_type": "execute_result"
    },
    {
     "data": {
      "text/plain": [
       "(28000, 154)"
      ]
     },
     "execution_count": 13,
     "metadata": {},
     "output_type": "execute_result"
    }
   ],
   "source": [
    "# Break out PCA df into pca df for training:\n",
    "\n",
    "pca_train = df_pca.iloc[:df.shape[0]]\n",
    "\n",
    "pca_test = df_pca[df.shape[0]:]\n",
    "\n",
    "pca_train.shape\n",
    "pca_test.shape"
   ]
  },
  {
   "cell_type": "code",
   "execution_count": 18,
   "id": "49a65cdf",
   "metadata": {},
   "outputs": [
    {
     "data": {
      "text/plain": [
       "RandomForestClassifier(random_state=777)"
      ]
     },
     "execution_count": 18,
     "metadata": {},
     "output_type": "execute_result"
    },
    {
     "name": "stdout",
     "output_type": "stream",
     "text": [
      "0:00:45.508019\n"
     ]
    }
   ],
   "source": [
    "#Fit Random Forest Model to PCA df\n",
    "clf = RandomForestClassifier(random_state = 777)\n",
    "\n",
    "# fit the model to the training set and record time to fit\n",
    "\n",
    "start=datetime.datetime.now()\n",
    "\n",
    "clf.fit(pca_train, labels)\n",
    "\n",
    "end=datetime.datetime.now()\n",
    "print(end-start)\n"
   ]
  },
  {
   "cell_type": "code",
   "execution_count": 19,
   "id": "1ceda34f",
   "metadata": {},
   "outputs": [
    {
     "data": {
      "text/html": [
       "<div>\n",
       "<style scoped>\n",
       "    .dataframe tbody tr th:only-of-type {\n",
       "        vertical-align: middle;\n",
       "    }\n",
       "\n",
       "    .dataframe tbody tr th {\n",
       "        vertical-align: top;\n",
       "    }\n",
       "\n",
       "    .dataframe thead th {\n",
       "        text-align: right;\n",
       "    }\n",
       "</style>\n",
       "<table border=\"1\" class=\"dataframe\">\n",
       "  <thead>\n",
       "    <tr style=\"text-align: right;\">\n",
       "      <th></th>\n",
       "      <th>ImageId</th>\n",
       "      <th>Label</th>\n",
       "    </tr>\n",
       "  </thead>\n",
       "  <tbody>\n",
       "    <tr>\n",
       "      <th>0</th>\n",
       "      <td>1</td>\n",
       "      <td>2</td>\n",
       "    </tr>\n",
       "    <tr>\n",
       "      <th>1</th>\n",
       "      <td>2</td>\n",
       "      <td>0</td>\n",
       "    </tr>\n",
       "    <tr>\n",
       "      <th>2</th>\n",
       "      <td>3</td>\n",
       "      <td>9</td>\n",
       "    </tr>\n",
       "    <tr>\n",
       "      <th>3</th>\n",
       "      <td>4</td>\n",
       "      <td>9</td>\n",
       "    </tr>\n",
       "    <tr>\n",
       "      <th>4</th>\n",
       "      <td>5</td>\n",
       "      <td>3</td>\n",
       "    </tr>\n",
       "  </tbody>\n",
       "</table>\n",
       "</div>"
      ],
      "text/plain": [
       "   ImageId  Label\n",
       "0        1      2\n",
       "1        2      0\n",
       "2        3      9\n",
       "3        4      9\n",
       "4        5      3"
      ]
     },
     "execution_count": 19,
     "metadata": {},
     "output_type": "execute_result"
    },
    {
     "data": {
      "text/plain": [
       "(28000, 2)"
      ]
     },
     "execution_count": 19,
     "metadata": {},
     "output_type": "execute_result"
    }
   ],
   "source": [
    "pred = clf.predict(pca_test)\n",
    "\n",
    "submit = pd.DataFrame()\n",
    "\n",
    "submit['ImageId'] = image_id\n",
    "submit['Label'] = pred\n",
    "\n",
    "submit.to_csv('submission3.csv',index=False)\n",
    "\n",
    "submit.head()\n",
    "\n",
    "submit.shape"
   ]
  },
  {
   "cell_type": "markdown",
   "id": "af2b94c3",
   "metadata": {},
   "source": [
    "PCA reduced random forest performed worse than original models."
   ]
  },
  {
   "cell_type": "markdown",
   "id": "14f63b92",
   "metadata": {},
   "source": [
    "<div style=\"background-color:lightblue;\">\n",
    "K Means Clustering\n",
    "</div>"
   ]
  },
  {
   "cell_type": "code",
   "execution_count": 14,
   "id": "3388575a",
   "metadata": {},
   "outputs": [
    {
     "name": "stdout",
     "output_type": "stream",
     "text": [
      "10\n"
     ]
    },
    {
     "name": "stderr",
     "output_type": "stream",
     "text": [
      "C:\\Users\\Swood\\anaconda3\\lib\\site-packages\\sklearn\\cluster\\_kmeans.py:887: UserWarning: MiniBatchKMeans is known to have a memory leak on Windows with MKL, when there are less chunks than available threads. You can prevent it by setting batch_size >= 2048 or by setting the environment variable OMP_NUM_THREADS=1\n",
      "  warnings.warn(\n"
     ]
    },
    {
     "data": {
      "text/plain": [
       "MiniBatchKMeans(n_clusters=10)"
      ]
     },
     "execution_count": 14,
     "metadata": {},
     "output_type": "execute_result"
    },
    {
     "data": {
      "text/plain": [
       "42000"
      ]
     },
     "execution_count": 14,
     "metadata": {},
     "output_type": "execute_result"
    }
   ],
   "source": [
    "\n",
    "x = pca_train.astype(float)\n",
    "\n",
    "from sklearn.cluster import MiniBatchKMeans, KMeans\n",
    "\n",
    "n_digits = len(np.unique(labels))\n",
    "print(n_digits)\n",
    "\n",
    "# Initialize KMeans model\n",
    "kmeans = MiniBatchKMeans(n_clusters = n_digits)\n",
    "\n",
    "# Fit the model to the training data\n",
    "kmeans.fit(x)\n",
    "len(kmeans.labels_)\n",
    "\n",
    "y_pred = kmeans.labels_\n",
    "\n"
   ]
  },
  {
   "cell_type": "code",
   "execution_count": 15,
   "id": "3ac467a0",
   "metadata": {},
   "outputs": [],
   "source": [
    "#Turn Y into an array so it will work with below functions\n",
    "\n",
    "Y = np.array(y)"
   ]
  },
  {
   "cell_type": "code",
   "execution_count": 16,
   "id": "597b3bcb",
   "metadata": {},
   "outputs": [
    {
     "data": {
      "text/html": [
       "<div>\n",
       "<style scoped>\n",
       "    .dataframe tbody tr th:only-of-type {\n",
       "        vertical-align: middle;\n",
       "    }\n",
       "\n",
       "    .dataframe tbody tr th {\n",
       "        vertical-align: top;\n",
       "    }\n",
       "\n",
       "    .dataframe thead th {\n",
       "        text-align: right;\n",
       "    }\n",
       "</style>\n",
       "<table border=\"1\" class=\"dataframe\">\n",
       "  <thead>\n",
       "    <tr style=\"text-align: right;\">\n",
       "      <th></th>\n",
       "      <th>label</th>\n",
       "      <th>cluster</th>\n",
       "    </tr>\n",
       "  </thead>\n",
       "  <tbody>\n",
       "    <tr>\n",
       "      <th>0</th>\n",
       "      <td>1</td>\n",
       "      <td>2</td>\n",
       "    </tr>\n",
       "    <tr>\n",
       "      <th>1</th>\n",
       "      <td>0</td>\n",
       "      <td>3</td>\n",
       "    </tr>\n",
       "    <tr>\n",
       "      <th>2</th>\n",
       "      <td>1</td>\n",
       "      <td>2</td>\n",
       "    </tr>\n",
       "    <tr>\n",
       "      <th>3</th>\n",
       "      <td>4</td>\n",
       "      <td>7</td>\n",
       "    </tr>\n",
       "    <tr>\n",
       "      <th>4</th>\n",
       "      <td>0</td>\n",
       "      <td>3</td>\n",
       "    </tr>\n",
       "  </tbody>\n",
       "</table>\n",
       "</div>"
      ],
      "text/plain": [
       "   label  cluster\n",
       "0      1        2\n",
       "1      0        3\n",
       "2      1        2\n",
       "3      4        7\n",
       "4      0        3"
      ]
     },
     "execution_count": 16,
     "metadata": {},
     "output_type": "execute_result"
    },
    {
     "data": {
      "text/plain": [
       "label  cluster\n",
       "0      0           118\n",
       "       1           165\n",
       "       2             5\n",
       "       3          3357\n",
       "       5           127\n",
       "       6            20\n",
       "       7            22\n",
       "       8           128\n",
       "       9           190\n",
       "1      0           412\n",
       "       1            19\n",
       "       2          4227\n",
       "       4             1\n",
       "       5             7\n",
       "       6             2\n",
       "       7             6\n",
       "       8             6\n",
       "       9             4\n",
       "2      0           130\n",
       "       1            33\n",
       "       2           442\n",
       "       3            45\n",
       "       4            42\n",
       "       5           204\n",
       "       6          2930\n",
       "       7           101\n",
       "       8           140\n",
       "       9           110\n",
       "3      0           102\n",
       "       1           451\n",
       "       2           209\n",
       "       3            24\n",
       "       4            17\n",
       "       5          2742\n",
       "       6           179\n",
       "       7            85\n",
       "       8            32\n",
       "       9           510\n",
       "4      0          1026\n",
       "       1           335\n",
       "       2           110\n",
       "       3             6\n",
       "       4           218\n",
       "       6             8\n",
       "       7          2249\n",
       "       8           118\n",
       "       9             2\n",
       "5      0           803\n",
       "       1           996\n",
       "       2           134\n",
       "       3            40\n",
       "       4            19\n",
       "       5           846\n",
       "       6            19\n",
       "       7           135\n",
       "       8            59\n",
       "       9           744\n",
       "6      0            74\n",
       "       1            73\n",
       "       2           299\n",
       "       3            67\n",
       "       5            28\n",
       "       6            55\n",
       "       7            70\n",
       "       8          3442\n",
       "       9            29\n",
       "7      0           720\n",
       "       1            17\n",
       "       2           239\n",
       "       3             8\n",
       "       4          2675\n",
       "       5             5\n",
       "       6            14\n",
       "       7           716\n",
       "       8             3\n",
       "       9             4\n",
       "8      0           539\n",
       "       1          1790\n",
       "       2           240\n",
       "       3            14\n",
       "       4            23\n",
       "       5           211\n",
       "       6            41\n",
       "       7            42\n",
       "       8            24\n",
       "       9          1139\n",
       "9      0           620\n",
       "       1           646\n",
       "       2           119\n",
       "       3            26\n",
       "       4           948\n",
       "       5            29\n",
       "       6             5\n",
       "       7          1743\n",
       "       8            10\n",
       "       9            42\n",
       "Name: cluster, dtype: int64"
      ]
     },
     "execution_count": 16,
     "metadata": {},
     "output_type": "execute_result"
    }
   ],
   "source": [
    "# create a dataframe comparing assigned clusters to labels\n",
    "labels_dict = pd.DataFrame(labels)\n",
    "#labels_dict.columns = ['labels', 'cluster']\n",
    "\n",
    "labels_dict['cluster'] = y_pred.tolist()\n",
    "\n",
    "labels_dict.head()\n",
    "\n",
    "pd.set_option('display.max_rows', None)\n",
    "\n",
    "labels_dict.groupby(['label', 'cluster'])['cluster'].agg('count')"
   ]
  },
  {
   "cell_type": "code",
   "execution_count": 17,
   "id": "14cefb68",
   "metadata": {},
   "outputs": [],
   "source": [
    "#assign cluster to correct label\n",
    "\n",
    "def infer_cluster_labels(kmeans, actual_labels):\n",
    "    inferred_labels = {}\n",
    "    for i in range(kmeans.n_clusters):\n",
    " # find index of points in cluster\n",
    "        labels = []\n",
    "        index = np.where(kmeans.labels_ == i)\n",
    " # append actual labels for each point in cluster\n",
    "        labels.append(actual_labels[index])\n",
    " # determine most common label\n",
    "        if len(labels[0]) == 1:\n",
    "            counts = np.bincount(labels[0])\n",
    "        else:\n",
    "            counts = np.bincount(np.squeeze(labels))\n",
    " # assign the cluster to a value in the inferred_labels dictionary\n",
    "        if np.argmax(counts) in inferred_labels:\n",
    " # append the new number to the existing array at this slot\n",
    "            inferred_labels[np.argmax(counts)].append(i)\n",
    "        else:\n",
    " # create a new array in this slot\n",
    "            inferred_labels[np.argmax(counts)] = [i]\n",
    "    return inferred_labels\n",
    "\n"
   ]
  },
  {
   "cell_type": "code",
   "execution_count": 18,
   "id": "ee1cabce",
   "metadata": {},
   "outputs": [],
   "source": [
    "def infer_data_labels(X_labels, cluster_labels):\n",
    " # empty array of len(X)\n",
    "    predicted_labels = np.zeros(len(X_labels)).astype(np.uint8)\n",
    "\n",
    "    for i, cluster in enumerate(X_labels):\n",
    "        for key, value in cluster_labels.items():\n",
    "            if cluster in value:\n",
    "                predicted_labels[i] = key\n",
    "\n",
    "    return predicted_labels"
   ]
  },
  {
   "cell_type": "code",
   "execution_count": 19,
   "id": "803d9214",
   "metadata": {},
   "outputs": [],
   "source": [
    "# test the infer_cluster_labels() and infer_data_labels() functions\n",
    "cluster_labels = infer_cluster_labels(kmeans, Y)\n",
    "X_clusters = kmeans.predict(pca_train)\n",
    "predicted_labels = infer_data_labels(X_clusters, cluster_labels)\n"
   ]
  },
  {
   "cell_type": "code",
   "execution_count": 89,
   "id": "ce319f68",
   "metadata": {},
   "outputs": [
    {
     "name": "stdout",
     "output_type": "stream",
     "text": [
      "[1 0 1 5 0 5 7 5 8 3 8 7 1 3 3 1 8 0 7 3]\n",
      "[1 0 1 4 0 0 7 3 5 3 8 9 1 3 3 1 2 0 7 5]\n"
     ]
    }
   ],
   "source": [
    "print(predicted_labels[:20])\n",
    "print(Y[:20])\n"
   ]
  },
  {
   "cell_type": "code",
   "execution_count": 90,
   "id": "add45c2b",
   "metadata": {},
   "outputs": [],
   "source": [
    "#Optimize and Evaluate the Cluser Algorithm\n",
    "\n",
    "from sklearn import metrics\n",
    "\n",
    "def calculate_metrics(estimator, data, labels):\n",
    "\n",
    "    # Calculate and print metrics\n",
    "    print('Number of Clusters: {}'.format(estimator.n_clusters))\n",
    "    print('Inertia: {}'.format(estimator.inertia_))\n",
    "    print('Homogeneity: {}'.format(metrics.homogeneity_score(labels, estimator.labels_)))\n"
   ]
  },
  {
   "cell_type": "code",
   "execution_count": 91,
   "id": "b5e4a9b9",
   "metadata": {},
   "outputs": [
    {
     "name": "stderr",
     "output_type": "stream",
     "text": [
      "C:\\Users\\Swood\\anaconda3\\lib\\site-packages\\sklearn\\cluster\\_kmeans.py:887: UserWarning: MiniBatchKMeans is known to have a memory leak on Windows with MKL, when there are less chunks than available threads. You can prevent it by setting batch_size >= 2048 or by setting the environment variable OMP_NUM_THREADS=1\n",
      "  warnings.warn(\n"
     ]
    },
    {
     "data": {
      "text/plain": [
       "MiniBatchKMeans(n_clusters=10)"
      ]
     },
     "execution_count": 91,
     "metadata": {},
     "output_type": "execute_result"
    },
    {
     "name": "stdout",
     "output_type": "stream",
     "text": [
      "Number of Clusters: 10\n",
      "Inertia: 101006962997.81873\n",
      "Homogeneity: 0.45075706813699024\n",
      "Accuracy: 0.5434523809523809\n",
      "\n"
     ]
    },
    {
     "name": "stderr",
     "output_type": "stream",
     "text": [
      "C:\\Users\\Swood\\anaconda3\\lib\\site-packages\\sklearn\\cluster\\_kmeans.py:887: UserWarning: MiniBatchKMeans is known to have a memory leak on Windows with MKL, when there are less chunks than available threads. You can prevent it by setting batch_size >= 2048 or by setting the environment variable OMP_NUM_THREADS=1\n",
      "  warnings.warn(\n"
     ]
    },
    {
     "data": {
      "text/plain": [
       "MiniBatchKMeans(n_clusters=16)"
      ]
     },
     "execution_count": 91,
     "metadata": {},
     "output_type": "execute_result"
    },
    {
     "name": "stdout",
     "output_type": "stream",
     "text": [
      "Number of Clusters: 16\n",
      "Inertia: 93669112478.92953\n",
      "Homogeneity: 0.5643499932442094\n",
      "Accuracy: 0.652952380952381\n",
      "\n"
     ]
    },
    {
     "name": "stderr",
     "output_type": "stream",
     "text": [
      "C:\\Users\\Swood\\anaconda3\\lib\\site-packages\\sklearn\\cluster\\_kmeans.py:887: UserWarning: MiniBatchKMeans is known to have a memory leak on Windows with MKL, when there are less chunks than available threads. You can prevent it by setting batch_size >= 2048 or by setting the environment variable OMP_NUM_THREADS=1\n",
      "  warnings.warn(\n"
     ]
    },
    {
     "data": {
      "text/plain": [
       "MiniBatchKMeans(n_clusters=36)"
      ]
     },
     "execution_count": 91,
     "metadata": {},
     "output_type": "execute_result"
    },
    {
     "name": "stdout",
     "output_type": "stream",
     "text": [
      "Number of Clusters: 36\n",
      "Inertia: 82496589059.3322\n",
      "Homogeneity: 0.6733801424586948\n",
      "Accuracy: 0.7495\n",
      "\n"
     ]
    },
    {
     "name": "stderr",
     "output_type": "stream",
     "text": [
      "C:\\Users\\Swood\\anaconda3\\lib\\site-packages\\sklearn\\cluster\\_kmeans.py:887: UserWarning: MiniBatchKMeans is known to have a memory leak on Windows with MKL, when there are less chunks than available threads. You can prevent it by setting batch_size >= 2048 or by setting the environment variable OMP_NUM_THREADS=1\n",
      "  warnings.warn(\n"
     ]
    },
    {
     "data": {
      "text/plain": [
       "MiniBatchKMeans(n_clusters=64)"
      ]
     },
     "execution_count": 91,
     "metadata": {},
     "output_type": "execute_result"
    },
    {
     "name": "stdout",
     "output_type": "stream",
     "text": [
      "Number of Clusters: 64\n",
      "Inertia: 75556275707.68141\n",
      "Homogeneity: 0.7263435962954576\n",
      "Accuracy: 0.7945714285714286\n",
      "\n"
     ]
    },
    {
     "name": "stderr",
     "output_type": "stream",
     "text": [
      "C:\\Users\\Swood\\anaconda3\\lib\\site-packages\\sklearn\\cluster\\_kmeans.py:887: UserWarning: MiniBatchKMeans is known to have a memory leak on Windows with MKL, when there are less chunks than available threads. You can prevent it by setting batch_size >= 2048 or by setting the environment variable OMP_NUM_THREADS=1\n",
      "  warnings.warn(\n"
     ]
    },
    {
     "data": {
      "text/plain": [
       "MiniBatchKMeans(n_clusters=144)"
      ]
     },
     "execution_count": 91,
     "metadata": {},
     "output_type": "execute_result"
    },
    {
     "name": "stdout",
     "output_type": "stream",
     "text": [
      "Number of Clusters: 144\n",
      "Inertia: 67064676917.02908\n",
      "Homogeneity: 0.8127050962497702\n",
      "Accuracy: 0.8800238095238095\n",
      "\n"
     ]
    },
    {
     "name": "stderr",
     "output_type": "stream",
     "text": [
      "C:\\Users\\Swood\\anaconda3\\lib\\site-packages\\sklearn\\cluster\\_kmeans.py:887: UserWarning: MiniBatchKMeans is known to have a memory leak on Windows with MKL, when there are less chunks than available threads. You can prevent it by setting batch_size >= 2048 or by setting the environment variable OMP_NUM_THREADS=1\n",
      "  warnings.warn(\n"
     ]
    },
    {
     "data": {
      "text/plain": [
       "MiniBatchKMeans(n_clusters=256)"
      ]
     },
     "execution_count": 91,
     "metadata": {},
     "output_type": "execute_result"
    },
    {
     "name": "stdout",
     "output_type": "stream",
     "text": [
      "Number of Clusters: 256\n",
      "Inertia: 61897876511.822754\n",
      "Homogeneity: 0.8436300661299893\n",
      "Accuracy: 0.8955238095238095\n",
      "\n"
     ]
    }
   ],
   "source": [
    "clusters = [10, 16, 36, 64, 144, 256]\n",
    "\n",
    "# test different numbers of clusters\n",
    "for n_clusters in clusters:\n",
    "    estimator = MiniBatchKMeans(n_clusters = n_clusters)\n",
    "    estimator.fit(pca_train)\n",
    "    \n",
    "    # print cluster metrics\n",
    "    calculate_metrics(estimator, pca_train, Y)\n",
    "    \n",
    "    # determine predicted labels\n",
    "    cluster_labels = infer_cluster_labels(estimator, Y)\n",
    "    predicted_Y = infer_data_labels(estimator.labels_, cluster_labels)\n",
    "    \n",
    "    # calculate and print accuracy\n",
    "    print('Accuracy: {}\\n'.format(metrics.accuracy_score(Y, predicted_Y)))"
   ]
  },
  {
   "cell_type": "markdown",
   "id": "43c4c6f2",
   "metadata": {},
   "source": [
    "More clusers seem to perform better than fewer clusters, so lets make our predictions off of kmeans with 256 clusters."
   ]
  },
  {
   "cell_type": "code",
   "execution_count": 107,
   "id": "1934235d",
   "metadata": {},
   "outputs": [
    {
     "name": "stderr",
     "output_type": "stream",
     "text": [
      "C:\\Users\\Swood\\anaconda3\\lib\\site-packages\\sklearn\\cluster\\_kmeans.py:887: UserWarning: MiniBatchKMeans is known to have a memory leak on Windows with MKL, when there are less chunks than available threads. You can prevent it by setting batch_size >= 2048 or by setting the environment variable OMP_NUM_THREADS=1\n",
      "  warnings.warn(\n"
     ]
    },
    {
     "data": {
      "text/plain": [
       "MiniBatchKMeans(n_clusters=256)"
      ]
     },
     "execution_count": 107,
     "metadata": {},
     "output_type": "execute_result"
    },
    {
     "name": "stdout",
     "output_type": "stream",
     "text": [
      "0:00:02.945243\n"
     ]
    }
   ],
   "source": [
    "# Make Predictions with tuned kmeans model\n",
    "\n",
    "start=datetime.datetime.now()\n",
    "\n",
    "# initialize and fit KMeans algorithm on training data\n",
    "kmeans = MiniBatchKMeans(n_clusters = 256)\n",
    "kmeans.fit(pca_train)\n",
    "\n",
    "\n",
    "cluster_labels = infer_cluster_labels(kmeans, Y)\n",
    "\n",
    "end=datetime.datetime.now()\n",
    "print(end-start)\n",
    "\n",
    "# predict labels for testing data\n",
    "test_clusters = kmeans.predict(pca_test)\n",
    "predicted_labels = infer_data_labels(kmeans.predict(pca_test), cluster_labels)"
   ]
  },
  {
   "cell_type": "code",
   "execution_count": 95,
   "id": "65d7738b",
   "metadata": {},
   "outputs": [
    {
     "data": {
      "text/plain": [
       "array([2, 0, 9, ..., 3, 9, 2], dtype=uint8)"
      ]
     },
     "execution_count": 95,
     "metadata": {},
     "output_type": "execute_result"
    }
   ],
   "source": [
    "predicted_labels"
   ]
  },
  {
   "cell_type": "code",
   "execution_count": 98,
   "id": "45125964",
   "metadata": {},
   "outputs": [
    {
     "data": {
      "text/html": [
       "<div>\n",
       "<style scoped>\n",
       "    .dataframe tbody tr th:only-of-type {\n",
       "        vertical-align: middle;\n",
       "    }\n",
       "\n",
       "    .dataframe tbody tr th {\n",
       "        vertical-align: top;\n",
       "    }\n",
       "\n",
       "    .dataframe thead th {\n",
       "        text-align: right;\n",
       "    }\n",
       "</style>\n",
       "<table border=\"1\" class=\"dataframe\">\n",
       "  <thead>\n",
       "    <tr style=\"text-align: right;\">\n",
       "      <th></th>\n",
       "      <th>ImageId</th>\n",
       "      <th>Label</th>\n",
       "    </tr>\n",
       "  </thead>\n",
       "  <tbody>\n",
       "    <tr>\n",
       "      <th>0</th>\n",
       "      <td>1</td>\n",
       "      <td>2</td>\n",
       "    </tr>\n",
       "    <tr>\n",
       "      <th>1</th>\n",
       "      <td>2</td>\n",
       "      <td>0</td>\n",
       "    </tr>\n",
       "    <tr>\n",
       "      <th>2</th>\n",
       "      <td>3</td>\n",
       "      <td>9</td>\n",
       "    </tr>\n",
       "    <tr>\n",
       "      <th>3</th>\n",
       "      <td>4</td>\n",
       "      <td>2</td>\n",
       "    </tr>\n",
       "    <tr>\n",
       "      <th>4</th>\n",
       "      <td>5</td>\n",
       "      <td>3</td>\n",
       "    </tr>\n",
       "  </tbody>\n",
       "</table>\n",
       "</div>"
      ],
      "text/plain": [
       "   ImageId  Label\n",
       "0        1      2\n",
       "1        2      0\n",
       "2        3      9\n",
       "3        4      2\n",
       "4        5      3"
      ]
     },
     "execution_count": 98,
     "metadata": {},
     "output_type": "execute_result"
    },
    {
     "data": {
      "text/plain": [
       "(28000, 2)"
      ]
     },
     "execution_count": 98,
     "metadata": {},
     "output_type": "execute_result"
    }
   ],
   "source": [
    "#Create Submission\n",
    "\n",
    "\n",
    "submit = pd.DataFrame()\n",
    "\n",
    "submit['ImageId'] = image_id\n",
    "submit['Label'] = predicted_labels\n",
    "\n",
    "submit.to_csv('submission4.csv',index=False)\n",
    "\n",
    "submit.head()\n",
    "\n",
    "submit.shape"
   ]
  },
  {
   "cell_type": "markdown",
   "id": "2c95eb0d",
   "metadata": {},
   "source": [
    "This earned a score of .89175, which is my worst score so far."
   ]
  },
  {
   "cell_type": "markdown",
   "id": "bb138717",
   "metadata": {},
   "source": [
    "The experiment we have proposed has a major design flaw. Identify the flaw. Fix it. Rerun the experiment in a way that is consistent with a training-and-test regimen, and submit this to Kaggle.com. "
   ]
  },
  {
   "cell_type": "code",
   "execution_count": 101,
   "id": "b0189a79",
   "metadata": {},
   "outputs": [
    {
     "name": "stdout",
     "output_type": "stream",
     "text": [
      "0:00:02.379308\n",
      "Number of components to explain 95% Variance is 154\n"
     ]
    }
   ],
   "source": [
    "# Conduct PCA on training data set and then apply to test data set:\n",
    "#fit so 95% of variance is explained\n",
    "\n",
    "start=datetime.datetime.now()\n",
    "\n",
    "pca = PCA(n_components = 0.95)\n",
    "x_transformed = pca.fit_transform(trainimages)\n",
    "\n",
    "end=datetime.datetime.now()\n",
    "print(end-start)\n",
    "\n",
    "print('Number of components to explain 95% Variance is',pca.n_components_)\n"
   ]
  },
  {
   "cell_type": "code",
   "execution_count": 102,
   "id": "e17e7037",
   "metadata": {},
   "outputs": [
    {
     "data": {
      "text/plain": [
       "RandomForestClassifier(random_state=777)"
      ]
     },
     "execution_count": 102,
     "metadata": {},
     "output_type": "execute_result"
    },
    {
     "name": "stdout",
     "output_type": "stream",
     "text": [
      "0:00:45.055081\n"
     ]
    }
   ],
   "source": [
    "#Fit Random Forest Model to PCA df\n",
    "clf = RandomForestClassifier(random_state = 777)\n",
    "\n",
    "# fit the model to the training set and record time to fit\n",
    "\n",
    "start=datetime.datetime.now()\n",
    "\n",
    "clf.fit(x_transformed, labels)\n",
    "\n",
    "end=datetime.datetime.now()\n",
    "print(end-start)\n"
   ]
  },
  {
   "cell_type": "code",
   "execution_count": 103,
   "id": "1e71080f",
   "metadata": {},
   "outputs": [
    {
     "data": {
      "text/plain": [
       "array([2, 0, 9, ..., 3, 9, 2], dtype=int64)"
      ]
     },
     "execution_count": 103,
     "metadata": {},
     "output_type": "execute_result"
    }
   ],
   "source": [
    "# PCA transform test data and make predictions\n",
    "\n",
    "xtest_transformed = pca.transform(df_test)\n",
    "\n",
    "pred = clf.predict(xtest_transformed)\n",
    "\n",
    "pred"
   ]
  },
  {
   "cell_type": "code",
   "execution_count": 105,
   "id": "b929f90e",
   "metadata": {},
   "outputs": [
    {
     "data": {
      "text/html": [
       "<div>\n",
       "<style scoped>\n",
       "    .dataframe tbody tr th:only-of-type {\n",
       "        vertical-align: middle;\n",
       "    }\n",
       "\n",
       "    .dataframe tbody tr th {\n",
       "        vertical-align: top;\n",
       "    }\n",
       "\n",
       "    .dataframe thead th {\n",
       "        text-align: right;\n",
       "    }\n",
       "</style>\n",
       "<table border=\"1\" class=\"dataframe\">\n",
       "  <thead>\n",
       "    <tr style=\"text-align: right;\">\n",
       "      <th></th>\n",
       "      <th>ImageId</th>\n",
       "      <th>Label</th>\n",
       "    </tr>\n",
       "  </thead>\n",
       "  <tbody>\n",
       "    <tr>\n",
       "      <th>0</th>\n",
       "      <td>1</td>\n",
       "      <td>2</td>\n",
       "    </tr>\n",
       "    <tr>\n",
       "      <th>1</th>\n",
       "      <td>2</td>\n",
       "      <td>0</td>\n",
       "    </tr>\n",
       "    <tr>\n",
       "      <th>2</th>\n",
       "      <td>3</td>\n",
       "      <td>9</td>\n",
       "    </tr>\n",
       "    <tr>\n",
       "      <th>3</th>\n",
       "      <td>4</td>\n",
       "      <td>4</td>\n",
       "    </tr>\n",
       "    <tr>\n",
       "      <th>4</th>\n",
       "      <td>5</td>\n",
       "      <td>3</td>\n",
       "    </tr>\n",
       "  </tbody>\n",
       "</table>\n",
       "</div>"
      ],
      "text/plain": [
       "   ImageId  Label\n",
       "0        1      2\n",
       "1        2      0\n",
       "2        3      9\n",
       "3        4      4\n",
       "4        5      3"
      ]
     },
     "execution_count": 105,
     "metadata": {},
     "output_type": "execute_result"
    },
    {
     "data": {
      "text/plain": [
       "(28000, 2)"
      ]
     },
     "execution_count": 105,
     "metadata": {},
     "output_type": "execute_result"
    }
   ],
   "source": [
    "#Create Submission\n",
    "\n",
    "submit = pd.DataFrame()\n",
    "\n",
    "submit['ImageId'] = image_id\n",
    "submit['Label'] = pred\n",
    "\n",
    "submit.to_csv('submission5.csv',index=False)\n",
    "\n",
    "submit.head()\n",
    "\n",
    "submit.shape"
   ]
  },
  {
   "cell_type": "markdown",
   "id": "c4d0485b",
   "metadata": {},
   "source": [
    "This performed similarly to the other pca transformed submission."
   ]
  },
  {
   "cell_type": "code",
   "execution_count": 144,
   "id": "396f6059",
   "metadata": {},
   "outputs": [
    {
     "data": {
      "text/html": [
       "<div>\n",
       "<style scoped>\n",
       "    .dataframe tbody tr th:only-of-type {\n",
       "        vertical-align: middle;\n",
       "    }\n",
       "\n",
       "    .dataframe tbody tr th {\n",
       "        vertical-align: top;\n",
       "    }\n",
       "\n",
       "    .dataframe thead th {\n",
       "        text-align: right;\n",
       "    }\n",
       "</style>\n",
       "<table border=\"1\" class=\"dataframe\">\n",
       "  <thead>\n",
       "    <tr style=\"text-align: right;\">\n",
       "      <th></th>\n",
       "      <th>Model</th>\n",
       "      <th>Accuracy</th>\n",
       "      <th>Fit Seconds</th>\n",
       "    </tr>\n",
       "  </thead>\n",
       "  <tbody>\n",
       "    <tr>\n",
       "      <th>0</th>\n",
       "      <td>Random_Forest</td>\n",
       "      <td>0.96510</td>\n",
       "      <td>22.87</td>\n",
       "    </tr>\n",
       "    <tr>\n",
       "      <th>1</th>\n",
       "      <td>PCA_Red_RF</td>\n",
       "      <td>0.94385</td>\n",
       "      <td>45.51</td>\n",
       "    </tr>\n",
       "    <tr>\n",
       "      <th>2</th>\n",
       "      <td>KMeans</td>\n",
       "      <td>0.89175</td>\n",
       "      <td>2.95</td>\n",
       "    </tr>\n",
       "    <tr>\n",
       "      <th>3</th>\n",
       "      <td>PCA_Red_RF2</td>\n",
       "      <td>0.94371</td>\n",
       "      <td>45.05</td>\n",
       "    </tr>\n",
       "  </tbody>\n",
       "</table>\n",
       "</div>"
      ],
      "text/plain": [
       "           Model  Accuracy  Fit Seconds\n",
       "0  Random_Forest   0.96510        22.87\n",
       "1     PCA_Red_RF   0.94385        45.51\n",
       "2         KMeans   0.89175         2.95\n",
       "3    PCA_Red_RF2   0.94371        45.05"
      ]
     },
     "execution_count": 144,
     "metadata": {},
     "output_type": "execute_result"
    }
   ],
   "source": [
    "model = ['Random_Forest', 'PCA_Red_RF', 'KMeans', 'PCA_Red_RF2']\n",
    "\n",
    "scores = [.96510, .94385, .89175, .94371]\n",
    "\n",
    "fit_time = [22.87, 45.51, 2.95, 45.05]\n",
    "\n",
    "\n",
    "\n",
    "summary_df = pd.DataFrame(list(zip(model, scores, fit_time)))\n",
    "\n",
    "summary_df.columns = ['Model', 'Accuracy', 'Fit Seconds']\n",
    "\n",
    "summary_df"
   ]
  },
  {
   "cell_type": "markdown",
   "id": "50c91c8b",
   "metadata": {},
   "source": [
    "<div style=\"background-color:lightblue;\">\n",
    "Artificial Neural Network\n",
    "</div>"
   ]
  },
  {
   "cell_type": "code",
   "execution_count": 42,
   "id": "201c19fd",
   "metadata": {},
   "outputs": [
    {
     "name": "stdout",
     "output_type": "stream",
     "text": [
      "Collecting keras-tuner\n",
      "  Downloading keras_tuner-1.1.0-py3-none-any.whl (98 kB)\n",
      "Requirement already satisfied: requests in c:\\users\\swood\\anaconda3\\lib\\site-packages (from keras-tuner) (2.25.1)\n",
      "Requirement already satisfied: numpy in c:\\users\\swood\\anaconda3\\lib\\site-packages (from keras-tuner) (1.20.1)\n",
      "Requirement already satisfied: tensorboard in c:\\users\\swood\\anaconda3\\lib\\site-packages (from keras-tuner) (2.8.0)\n",
      "Requirement already satisfied: scipy in c:\\users\\swood\\anaconda3\\lib\\site-packages (from keras-tuner) (1.6.2)\n",
      "Collecting kt-legacy\n",
      "  Downloading kt_legacy-1.0.4-py3-none-any.whl (9.6 kB)\n",
      "Requirement already satisfied: packaging in c:\\users\\swood\\anaconda3\\lib\\site-packages (from keras-tuner) (20.9)\n",
      "Requirement already satisfied: ipython in c:\\users\\swood\\anaconda3\\lib\\site-packages (from keras-tuner) (7.22.0)\n",
      "Requirement already satisfied: setuptools>=18.5 in c:\\users\\swood\\anaconda3\\lib\\site-packages (from ipython->keras-tuner) (52.0.0.post20210125)\n",
      "Requirement already satisfied: jedi>=0.16 in c:\\users\\swood\\anaconda3\\lib\\site-packages (from ipython->keras-tuner) (0.17.2)\n",
      "Requirement already satisfied: backcall in c:\\users\\swood\\anaconda3\\lib\\site-packages (from ipython->keras-tuner) (0.2.0)\n",
      "Requirement already satisfied: pickleshare in c:\\users\\swood\\anaconda3\\lib\\site-packages (from ipython->keras-tuner) (0.7.5)\n",
      "Requirement already satisfied: pygments in c:\\users\\swood\\anaconda3\\lib\\site-packages (from ipython->keras-tuner) (2.8.1)\n",
      "Requirement already satisfied: colorama in c:\\users\\swood\\anaconda3\\lib\\site-packages (from ipython->keras-tuner) (0.4.4)\n",
      "Requirement already satisfied: decorator in c:\\users\\swood\\anaconda3\\lib\\site-packages (from ipython->keras-tuner) (5.0.6)\n",
      "Requirement already satisfied: traitlets>=4.2 in c:\\users\\swood\\anaconda3\\lib\\site-packages (from ipython->keras-tuner) (5.0.5)\n",
      "Requirement already satisfied: prompt-toolkit!=3.0.0,!=3.0.1,<3.1.0,>=2.0.0 in c:\\users\\swood\\anaconda3\\lib\\site-packages (from ipython->keras-tuner) (3.0.17)\n",
      "Requirement already satisfied: parso<0.8.0,>=0.7.0 in c:\\users\\swood\\anaconda3\\lib\\site-packages (from jedi>=0.16->ipython->keras-tuner) (0.7.0)\n",
      "Requirement already satisfied: wcwidth in c:\\users\\swood\\anaconda3\\lib\\site-packages (from prompt-toolkit!=3.0.0,!=3.0.1,<3.1.0,>=2.0.0->ipython->keras-tuner) (0.2.5)\n",
      "Requirement already satisfied: ipython-genutils in c:\\users\\swood\\anaconda3\\lib\\site-packages (from traitlets>=4.2->ipython->keras-tuner) (0.2.0)\n",
      "Requirement already satisfied: pyparsing>=2.0.2 in c:\\users\\swood\\anaconda3\\lib\\site-packages (from packaging->keras-tuner) (2.4.7)\n",
      "Requirement already satisfied: idna<3,>=2.5 in c:\\users\\swood\\anaconda3\\lib\\site-packages (from requests->keras-tuner) (2.10)\n",
      "Requirement already satisfied: urllib3<1.27,>=1.21.1 in c:\\users\\swood\\anaconda3\\lib\\site-packages (from requests->keras-tuner) (1.26.4)\n",
      "Requirement already satisfied: chardet<5,>=3.0.2 in c:\\users\\swood\\anaconda3\\lib\\site-packages (from requests->keras-tuner) (4.0.0)\n",
      "Requirement already satisfied: certifi>=2017.4.17 in c:\\users\\swood\\anaconda3\\lib\\site-packages (from requests->keras-tuner) (2020.12.5)\n",
      "Requirement already satisfied: markdown>=2.6.8 in c:\\users\\swood\\anaconda3\\lib\\site-packages (from tensorboard->keras-tuner) (3.3.6)\n",
      "Requirement already satisfied: tensorboard-data-server<0.7.0,>=0.6.0 in c:\\users\\swood\\anaconda3\\lib\\site-packages (from tensorboard->keras-tuner) (0.6.1)\n",
      "Requirement already satisfied: google-auth-oauthlib<0.5,>=0.4.1 in c:\\users\\swood\\anaconda3\\lib\\site-packages (from tensorboard->keras-tuner) (0.4.6)\n",
      "Requirement already satisfied: tensorboard-plugin-wit>=1.6.0 in c:\\users\\swood\\anaconda3\\lib\\site-packages (from tensorboard->keras-tuner) (1.8.1)\n",
      "Requirement already satisfied: wheel>=0.26 in c:\\users\\swood\\anaconda3\\lib\\site-packages (from tensorboard->keras-tuner) (0.36.2)\n",
      "Requirement already satisfied: absl-py>=0.4 in c:\\users\\swood\\anaconda3\\lib\\site-packages (from tensorboard->keras-tuner) (1.0.0)\n",
      "Requirement already satisfied: grpcio>=1.24.3 in c:\\users\\swood\\anaconda3\\lib\\site-packages (from tensorboard->keras-tuner) (1.43.0)\n",
      "Requirement already satisfied: werkzeug>=0.11.15 in c:\\users\\swood\\anaconda3\\lib\\site-packages (from tensorboard->keras-tuner) (1.0.1)\n",
      "Requirement already satisfied: google-auth<3,>=1.6.3 in c:\\users\\swood\\anaconda3\\lib\\site-packages (from tensorboard->keras-tuner) (2.6.0)\n",
      "Requirement already satisfied: protobuf>=3.6.0 in c:\\users\\swood\\anaconda3\\lib\\site-packages (from tensorboard->keras-tuner) (3.19.4)\n",
      "Requirement already satisfied: six in c:\\users\\swood\\anaconda3\\lib\\site-packages (from absl-py>=0.4->tensorboard->keras-tuner) (1.15.0)\n",
      "Requirement already satisfied: cachetools<6.0,>=2.0.0 in c:\\users\\swood\\anaconda3\\lib\\site-packages (from google-auth<3,>=1.6.3->tensorboard->keras-tuner) (5.0.0)\n",
      "Requirement already satisfied: rsa<5,>=3.1.4 in c:\\users\\swood\\anaconda3\\lib\\site-packages (from google-auth<3,>=1.6.3->tensorboard->keras-tuner) (4.8)\n",
      "Requirement already satisfied: pyasn1-modules>=0.2.1 in c:\\users\\swood\\anaconda3\\lib\\site-packages (from google-auth<3,>=1.6.3->tensorboard->keras-tuner) (0.2.8)\n",
      "Requirement already satisfied: requests-oauthlib>=0.7.0 in c:\\users\\swood\\anaconda3\\lib\\site-packages (from google-auth-oauthlib<0.5,>=0.4.1->tensorboard->keras-tuner) (1.3.1)\n",
      "Requirement already satisfied: importlib-metadata>=4.4 in c:\\users\\swood\\anaconda3\\lib\\site-packages (from markdown>=2.6.8->tensorboard->keras-tuner) (4.11.0)\n",
      "Requirement already satisfied: zipp>=0.5 in c:\\users\\swood\\anaconda3\\lib\\site-packages (from importlib-metadata>=4.4->markdown>=2.6.8->tensorboard->keras-tuner) (3.4.1)\n",
      "Requirement already satisfied: pyasn1<0.5.0,>=0.4.6 in c:\\users\\swood\\anaconda3\\lib\\site-packages (from pyasn1-modules>=0.2.1->google-auth<3,>=1.6.3->tensorboard->keras-tuner) (0.4.8)\n",
      "Requirement already satisfied: oauthlib>=3.0.0 in c:\\users\\swood\\anaconda3\\lib\\site-packages (from requests-oauthlib>=0.7.0->google-auth-oauthlib<0.5,>=0.4.1->tensorboard->keras-tuner) (3.2.0)\n",
      "Installing collected packages: kt-legacy, keras-tuner\n",
      "Successfully installed keras-tuner-1.1.0 kt-legacy-1.0.4\n",
      "Collecting package metadata (current_repodata.json): ...working... done\n",
      "Solving environment: ...working... failed with initial frozen solve. Retrying with flexible solve.\n",
      "Solving environment: ...working... failed with repodata from current_repodata.json, will retry with next repodata source.\n",
      "Collecting package metadata (repodata.json): ...working... done\n",
      "Solving environment: ...working... done\n",
      "\n",
      "## Package Plan ##\n",
      "\n",
      "  environment location: C:\\Users\\Swood\\anaconda3\n",
      "\n",
      "  added / updated specs:\n",
      "    - keras-tuner\n",
      "\n",
      "\n",
      "The following packages will be downloaded:\n",
      "\n",
      "    package                    |            build\n",
      "    ---------------------------|-----------------\n",
      "    _tflow_select-2.3.0        |            eigen           4 KB\n",
      "    absl-py-1.0.0              |     pyhd8ed1ab_0          95 KB  conda-forge\n",
      "    astor-0.8.1                |     pyh9f0ad1d_0          25 KB  conda-forge\n",
      "    astunparse-1.6.3           |     pyhd8ed1ab_0          15 KB  conda-forge\n",
      "    blinker-1.4                |             py_1          13 KB  conda-forge\n",
      "    cachetools-4.2.4           |     pyhd8ed1ab_0          12 KB  conda-forge\n",
      "    gast-0.4.0                 |     pyh9f0ad1d_0          12 KB  conda-forge\n",
      "    google-auth-1.21.3         |             py_0          56 KB  conda-forge\n",
      "    google-auth-oauthlib-0.4.6 |     pyhd8ed1ab_0          19 KB  conda-forge\n",
      "    google-pasta-0.2.0         |     pyh8c360ce_0          42 KB  conda-forge\n",
      "    grpcio-1.38.1              |   py38he5377a8_0         2.0 MB  conda-forge\n",
      "    keras-applications-1.0.8   |             py_1          30 KB  conda-forge\n",
      "    keras-preprocessing-1.1.2  |     pyhd8ed1ab_0          34 KB  conda-forge\n",
      "    keras-tuner-1.1.0          |     pyhd8ed1ab_0          60 KB  conda-forge\n",
      "    libprotobuf-3.18.0         |       h7755175_1         2.4 MB  conda-forge\n",
      "    markdown-3.3.4             |     pyhd8ed1ab_0          67 KB  conda-forge\n",
      "    oauthlib-3.2.0             |     pyhd8ed1ab_0          90 KB  conda-forge\n",
      "    opt_einsum-3.3.0           |     pyhd8ed1ab_1          53 KB  conda-forge\n",
      "    protobuf-3.18.0            |   py38h885f38d_0         262 KB  conda-forge\n",
      "    pyasn1-0.4.8               |             py_0          53 KB  conda-forge\n",
      "    pyasn1-modules-0.2.7       |             py_0          60 KB  conda-forge\n",
      "    pyjwt-2.3.0                |     pyhd8ed1ab_1          18 KB  conda-forge\n",
      "    requests-oauthlib-1.3.1    |     pyhd8ed1ab_0          22 KB  conda-forge\n",
      "    rsa-4.8                    |     pyhd8ed1ab_0          31 KB  conda-forge\n",
      "    tabulate-0.8.9             |     pyhd8ed1ab_0          26 KB  conda-forge\n",
      "    tensorboard-2.8.0          |     pyhd8ed1ab_1         5.2 MB  conda-forge\n",
      "    tensorboard-data-server-0.6.0|   py38haa244fe_1          12 KB  conda-forge\n",
      "    tensorboard-plugin-wit-1.8.1|     pyhd8ed1ab_0         668 KB  conda-forge\n",
      "    tensorflow-2.3.0           |mkl_py38h8c0d9a2_0           6 KB\n",
      "    tensorflow-base-2.3.0      |eigen_py38h75a453f_0        49.5 MB\n",
      "    tensorflow-estimator-2.5.0 |     pyh81a9013_1         289 KB  conda-forge\n",
      "    termcolor-1.1.0            |             py_2           6 KB  conda-forge\n",
      "    terminaltables-3.1.10      |     pyhd8ed1ab_0          16 KB  conda-forge\n",
      "    ------------------------------------------------------------\n",
      "                                           Total:        61.1 MB\n",
      "\n",
      "The following NEW packages will be INSTALLED:\n",
      "\n",
      "  _tflow_select      pkgs/main/win-64::_tflow_select-2.3.0-eigen\n",
      "  absl-py            conda-forge/noarch::absl-py-1.0.0-pyhd8ed1ab_0\n",
      "  astor              conda-forge/noarch::astor-0.8.1-pyh9f0ad1d_0\n",
      "  astunparse         conda-forge/noarch::astunparse-1.6.3-pyhd8ed1ab_0\n",
      "  blinker            conda-forge/noarch::blinker-1.4-py_1\n",
      "  cachetools         conda-forge/noarch::cachetools-4.2.4-pyhd8ed1ab_0\n",
      "  gast               conda-forge/noarch::gast-0.4.0-pyh9f0ad1d_0\n",
      "  google-auth        conda-forge/noarch::google-auth-1.21.3-py_0\n",
      "  google-auth-oauth~ conda-forge/noarch::google-auth-oauthlib-0.4.6-pyhd8ed1ab_0\n",
      "  google-pasta       conda-forge/noarch::google-pasta-0.2.0-pyh8c360ce_0\n",
      "  grpcio             conda-forge/win-64::grpcio-1.38.1-py38he5377a8_0\n",
      "  keras-applications conda-forge/noarch::keras-applications-1.0.8-py_1\n",
      "  keras-preprocessi~ conda-forge/noarch::keras-preprocessing-1.1.2-pyhd8ed1ab_0\n",
      "  keras-tuner        conda-forge/noarch::keras-tuner-1.1.0-pyhd8ed1ab_0\n",
      "  libprotobuf        conda-forge/win-64::libprotobuf-3.18.0-h7755175_1\n",
      "  markdown           conda-forge/noarch::markdown-3.3.4-pyhd8ed1ab_0\n",
      "  oauthlib           conda-forge/noarch::oauthlib-3.2.0-pyhd8ed1ab_0\n",
      "  opt_einsum         conda-forge/noarch::opt_einsum-3.3.0-pyhd8ed1ab_1\n",
      "  protobuf           conda-forge/win-64::protobuf-3.18.0-py38h885f38d_0\n",
      "  pyasn1             conda-forge/noarch::pyasn1-0.4.8-py_0\n",
      "  pyasn1-modules     conda-forge/noarch::pyasn1-modules-0.2.7-py_0\n",
      "  pyjwt              conda-forge/noarch::pyjwt-2.3.0-pyhd8ed1ab_1\n",
      "  requests-oauthlib  conda-forge/noarch::requests-oauthlib-1.3.1-pyhd8ed1ab_0\n",
      "  rsa                conda-forge/noarch::rsa-4.8-pyhd8ed1ab_0\n",
      "  tabulate           conda-forge/noarch::tabulate-0.8.9-pyhd8ed1ab_0\n",
      "  tensorboard        conda-forge/noarch::tensorboard-2.8.0-pyhd8ed1ab_1\n",
      "  tensorboard-data-~ conda-forge/win-64::tensorboard-data-server-0.6.0-py38haa244fe_1\n",
      "  tensorboard-plugi~ conda-forge/noarch::tensorboard-plugin-wit-1.8.1-pyhd8ed1ab_0\n",
      "  tensorflow         pkgs/main/win-64::tensorflow-2.3.0-mkl_py38h8c0d9a2_0\n",
      "  tensorflow-base    pkgs/main/win-64::tensorflow-base-2.3.0-eigen_py38h75a453f_0\n",
      "  tensorflow-estima~ conda-forge/noarch::tensorflow-estimator-2.5.0-pyh81a9013_1\n",
      "  termcolor          conda-forge/noarch::termcolor-1.1.0-py_2\n",
      "  terminaltables     conda-forge/noarch::terminaltables-3.1.10-pyhd8ed1ab_0\n",
      "\n",
      "\n",
      "\n",
      "Downloading and Extracting Packages\n",
      "\n",
      "google-auth-1.21.3   | 56 KB     |            |   0% \n",
      "google-auth-1.21.3   | 56 KB     | ##8        |  28% \n",
      "google-auth-1.21.3   | 56 KB     | ########## | 100% \n",
      "\n",
      "absl-py-1.0.0        | 95 KB     |            |   0% \n",
      "absl-py-1.0.0        | 95 KB     | ########## | 100% \n",
      "absl-py-1.0.0        | 95 KB     | ########## | 100% \n",
      "\n",
      "terminaltables-3.1.1 | 16 KB     |            |   0% \n",
      "terminaltables-3.1.1 | 16 KB     | ########## | 100% \n",
      "\n",
      "tensorflow-base-2.3. | 49.5 MB   |            |   0% \n",
      "tensorflow-base-2.3. | 49.5 MB   |            |   0% \n",
      "tensorflow-base-2.3. | 49.5 MB   | 1          |   1% \n",
      "tensorflow-base-2.3. | 49.5 MB   | 3          |   4% \n",
      "tensorflow-base-2.3. | 49.5 MB   | 6          |   7% \n",
      "tensorflow-base-2.3. | 49.5 MB   | 9          |  10% \n",
      "tensorflow-base-2.3. | 49.5 MB   | #2         |  12% \n",
      "tensorflow-base-2.3. | 49.5 MB   | #5         |  15% \n",
      "tensorflow-base-2.3. | 49.5 MB   | #7         |  18% \n",
      "tensorflow-base-2.3. | 49.5 MB   | ##         |  21% \n",
      "tensorflow-base-2.3. | 49.5 MB   | ##3        |  23% \n",
      "tensorflow-base-2.3. | 49.5 MB   | ##6        |  26% \n",
      "tensorflow-base-2.3. | 49.5 MB   | ##8        |  29% \n",
      "tensorflow-base-2.3. | 49.5 MB   | ###1       |  32% \n",
      "tensorflow-base-2.3. | 49.5 MB   | ###4       |  35% \n",
      "tensorflow-base-2.3. | 49.5 MB   | ###7       |  37% \n",
      "tensorflow-base-2.3. | 49.5 MB   | ####       |  40% \n",
      "tensorflow-base-2.3. | 49.5 MB   | ####2      |  43% \n",
      "tensorflow-base-2.3. | 49.5 MB   | ####5      |  46% \n",
      "tensorflow-base-2.3. | 49.5 MB   | ####8      |  49% \n",
      "tensorflow-base-2.3. | 49.5 MB   | #####1     |  51% \n",
      "tensorflow-base-2.3. | 49.5 MB   | #####4     |  54% \n",
      "tensorflow-base-2.3. | 49.5 MB   | #####6     |  57% \n",
      "tensorflow-base-2.3. | 49.5 MB   | #####9     |  60% \n",
      "tensorflow-base-2.3. | 49.5 MB   | ######2    |  62% \n",
      "tensorflow-base-2.3. | 49.5 MB   | ######5    |  65% \n",
      "tensorflow-base-2.3. | 49.5 MB   | ######7    |  68% \n",
      "tensorflow-base-2.3. | 49.5 MB   | #######    |  71% \n",
      "tensorflow-base-2.3. | 49.5 MB   | #######3   |  74% \n",
      "tensorflow-base-2.3. | 49.5 MB   | #######6   |  76% \n",
      "tensorflow-base-2.3. | 49.5 MB   | #######9   |  79% \n",
      "tensorflow-base-2.3. | 49.5 MB   | ########1  |  82% \n",
      "tensorflow-base-2.3. | 49.5 MB   | ########4  |  85% \n",
      "tensorflow-base-2.3. | 49.5 MB   | ########7  |  88% \n",
      "tensorflow-base-2.3. | 49.5 MB   | #########  |  90% \n",
      "tensorflow-base-2.3. | 49.5 MB   | #########3 |  93% \n",
      "tensorflow-base-2.3. | 49.5 MB   | #########6 |  96% \n",
      "tensorflow-base-2.3. | 49.5 MB   | #########8 |  99% \n",
      "tensorflow-base-2.3. | 49.5 MB   | ########## | 100% \n",
      "\n",
      "pyjwt-2.3.0          | 18 KB     |            |   0% \n",
      "pyjwt-2.3.0          | 18 KB     | ########## | 100% \n",
      "\n",
      "gast-0.4.0           | 12 KB     |            |   0% \n",
      "gast-0.4.0           | 12 KB     | ########## | 100% \n",
      "\n",
      "opt_einsum-3.3.0     | 53 KB     |            |   0% \n",
      "opt_einsum-3.3.0     | 53 KB     | ########## | 100% \n",
      "opt_einsum-3.3.0     | 53 KB     | ########## | 100% \n",
      "\n",
      "grpcio-1.38.1        | 2.0 MB    |            |   0% \n",
      "grpcio-1.38.1        | 2.0 MB    | #5         |  16% \n",
      "grpcio-1.38.1        | 2.0 MB    | ######6    |  66% \n",
      "grpcio-1.38.1        | 2.0 MB    | ########## | 100% \n",
      "\n",
      "tabulate-0.8.9       | 26 KB     |            |   0% \n",
      "tabulate-0.8.9       | 26 KB     | ########## | 100% \n",
      "\n",
      "rsa-4.8              | 31 KB     |            |   0% \n",
      "rsa-4.8              | 31 KB     | ########## | 100% \n",
      "\n",
      "protobuf-3.18.0      | 262 KB    |            |   0% \n",
      "protobuf-3.18.0      | 262 KB    | ########## | 100% \n",
      "protobuf-3.18.0      | 262 KB    | ########## | 100% \n",
      "\n",
      "keras-tuner-1.1.0    | 60 KB     |            |   0% \n",
      "keras-tuner-1.1.0    | 60 KB     | ########## | 100% \n",
      "keras-tuner-1.1.0    | 60 KB     | ########## | 100% \n",
      "\n",
      "pyasn1-modules-0.2.7 | 60 KB     |            |   0% \n",
      "pyasn1-modules-0.2.7 | 60 KB     | ########## | 100% \n",
      "pyasn1-modules-0.2.7 | 60 KB     | ########## | 100% \n",
      "\n",
      "google-pasta-0.2.0   | 42 KB     |            |   0% \n",
      "google-pasta-0.2.0   | 42 KB     | ########## | 100% \n",
      "\n",
      "google-auth-oauthlib | 19 KB     |            |   0% \n",
      "google-auth-oauthlib | 19 KB     | ########## | 100% \n",
      "\n",
      "markdown-3.3.4       | 67 KB     |            |   0% \n",
      "markdown-3.3.4       | 67 KB     | ########## | 100% \n",
      "markdown-3.3.4       | 67 KB     | ########## | 100% \n",
      "\n",
      "keras-preprocessing- | 34 KB     |            |   0% \n",
      "keras-preprocessing- | 34 KB     | ####6      |  47% \n",
      "keras-preprocessing- | 34 KB     | ########## | 100% \n",
      "\n",
      "requests-oauthlib-1. | 22 KB     |            |   0% \n",
      "requests-oauthlib-1. | 22 KB     | ########## | 100% \n",
      "\n",
      "blinker-1.4          | 13 KB     |            |   0% \n",
      "blinker-1.4          | 13 KB     | ########## | 100% \n",
      "\n",
      "termcolor-1.1.0      | 6 KB      |            |   0% \n",
      "termcolor-1.1.0      | 6 KB      | ########## | 100% \n",
      "\n",
      "libprotobuf-3.18.0   | 2.4 MB    |            |   0% \n",
      "libprotobuf-3.18.0   | 2.4 MB    |            |   1% \n",
      "libprotobuf-3.18.0   | 2.4 MB    | 7          |   7% \n",
      "libprotobuf-3.18.0   | 2.4 MB    | #4         |  15% \n",
      "libprotobuf-3.18.0   | 2.4 MB    | ##4        |  25% \n",
      "libprotobuf-3.18.0   | 2.4 MB    | ###7       |  37% \n",
      "libprotobuf-3.18.0   | 2.4 MB    | ####9      |  50% \n",
      "libprotobuf-3.18.0   | 2.4 MB    | ######4    |  64% \n",
      "libprotobuf-3.18.0   | 2.4 MB    | #######7   |  78% \n",
      "libprotobuf-3.18.0   | 2.4 MB    | #########2 |  92% \n",
      "libprotobuf-3.18.0   | 2.4 MB    | ########## | 100% \n",
      "\n",
      "pyasn1-0.4.8         | 53 KB     |            |   0% \n",
      "pyasn1-0.4.8         | 53 KB     | ########## | 100% \n",
      "pyasn1-0.4.8         | 53 KB     | ########## | 100% \n",
      "\n",
      "keras-applications-1 | 30 KB     |            |   0% \n",
      "keras-applications-1 | 30 KB     | #####3     |  54% \n",
      "keras-applications-1 | 30 KB     | ########## | 100% \n",
      "\n",
      "astunparse-1.6.3     | 15 KB     |            |   0% \n",
      "astunparse-1.6.3     | 15 KB     | ########## | 100% \n",
      "\n",
      "tensorflow-2.3.0     | 6 KB      |            |   0% \n",
      "tensorflow-2.3.0     | 6 KB      | ########## | 100% \n",
      "\n",
      "cachetools-4.2.4     | 12 KB     |            |   0% \n",
      "cachetools-4.2.4     | 12 KB     | ########## | 100% \n",
      "\n",
      "astor-0.8.1          | 25 KB     |            |   0% \n",
      "astor-0.8.1          | 25 KB     | ########## | 100% \n",
      "astor-0.8.1          | 25 KB     | ########## | 100% \n",
      "\n",
      "oauthlib-3.2.0       | 90 KB     |            |   0% \n",
      "oauthlib-3.2.0       | 90 KB     | ########## | 100% \n",
      "oauthlib-3.2.0       | 90 KB     | ########## | 100% \n",
      "\n",
      "tensorflow-estimator | 289 KB    |            |   0% \n",
      "tensorflow-estimator | 289 KB    | #######7   |  77% \n",
      "tensorflow-estimator | 289 KB    | ########## | 100% \n",
      "\n",
      "_tflow_select-2.3.0  | 4 KB      |            |   0% \n",
      "_tflow_select-2.3.0  | 4 KB      | ########## | 100% \n",
      "\n",
      "tensorboard-data-ser | 12 KB     |            |   0% \n",
      "tensorboard-data-ser | 12 KB     | ########## | 100% \n",
      "\n",
      "tensorboard-plugin-w | 668 KB    |            |   0% \n",
      "tensorboard-plugin-w | 668 KB    | ###1       |  31% \n",
      "tensorboard-plugin-w | 668 KB    | ########## | 100% \n",
      "tensorboard-plugin-w | 668 KB    | ########## | 100% \n",
      "\n",
      "tensorboard-2.8.0    | 5.2 MB    |            |   0% \n",
      "tensorboard-2.8.0    | 5.2 MB    | 2          |   3% \n",
      "tensorboard-2.8.0    | 5.2 MB    | #3         |  13% \n",
      "tensorboard-2.8.0    | 5.2 MB    | ##5        |  25% \n",
      "tensorboard-2.8.0    | 5.2 MB    | ###7       |  38% \n",
      "tensorboard-2.8.0    | 5.2 MB    | #####1     |  52% \n",
      "tensorboard-2.8.0    | 5.2 MB    | ######3    |  64% \n",
      "tensorboard-2.8.0    | 5.2 MB    | #######9   |  79% \n",
      "tensorboard-2.8.0    | 5.2 MB    | #########6 |  96% \n",
      "tensorboard-2.8.0    | 5.2 MB    | ########## | 100% \n",
      "Preparing transaction: ...working... done\n",
      "Verifying transaction: ...working... done\n",
      "Executing transaction: ...working... done\n"
     ]
    }
   ],
   "source": [
    "!pip install keras-tuner"
   ]
  },
  {
   "cell_type": "code",
   "execution_count": 110,
   "id": "62d12b5c",
   "metadata": {},
   "outputs": [
    {
     "data": {
      "text/plain": [
       "'2.8.0'"
      ]
     },
     "execution_count": 110,
     "metadata": {},
     "output_type": "execute_result"
    },
    {
     "data": {
      "text/plain": [
       "'2.8.0'"
      ]
     },
     "execution_count": 110,
     "metadata": {},
     "output_type": "execute_result"
    }
   ],
   "source": [
    "import tensorflow as tf\n",
    "from tensorflow import keras\n",
    "from tensorflow.keras import layers\n",
    "from kerastuner.tuners import RandomSearch\n",
    "from tensorflow.keras.optimizers import RMSprop\n",
    "\n",
    "tf.__version__\n",
    "keras.__version__"
   ]
  },
  {
   "cell_type": "code",
   "execution_count": 80,
   "id": "48016bae",
   "metadata": {},
   "outputs": [
    {
     "data": {
      "text/plain": [
       "(5000, 784)"
      ]
     },
     "execution_count": 80,
     "metadata": {},
     "output_type": "execute_result"
    },
    {
     "data": {
      "text/plain": [
       "(37000, 784)"
      ]
     },
     "execution_count": 80,
     "metadata": {},
     "output_type": "execute_result"
    },
    {
     "data": {
      "text/plain": [
       "(5000,)"
      ]
     },
     "execution_count": 80,
     "metadata": {},
     "output_type": "execute_result"
    },
    {
     "data": {
      "text/plain": [
       "(37000,)"
      ]
     },
     "execution_count": 80,
     "metadata": {},
     "output_type": "execute_result"
    },
    {
     "data": {
      "text/plain": [
       "(28000, 784)"
      ]
     },
     "execution_count": 80,
     "metadata": {},
     "output_type": "execute_result"
    },
    {
     "data": {
      "text/html": [
       "<div>\n",
       "<style scoped>\n",
       "    .dataframe tbody tr th:only-of-type {\n",
       "        vertical-align: middle;\n",
       "    }\n",
       "\n",
       "    .dataframe tbody tr th {\n",
       "        vertical-align: top;\n",
       "    }\n",
       "\n",
       "    .dataframe thead th {\n",
       "        text-align: right;\n",
       "    }\n",
       "</style>\n",
       "<table border=\"1\" class=\"dataframe\">\n",
       "  <thead>\n",
       "    <tr style=\"text-align: right;\">\n",
       "      <th></th>\n",
       "      <th>pixel0</th>\n",
       "      <th>pixel1</th>\n",
       "      <th>pixel2</th>\n",
       "      <th>pixel3</th>\n",
       "      <th>pixel4</th>\n",
       "      <th>pixel5</th>\n",
       "      <th>pixel6</th>\n",
       "      <th>pixel7</th>\n",
       "      <th>pixel8</th>\n",
       "      <th>pixel9</th>\n",
       "      <th>...</th>\n",
       "      <th>pixel774</th>\n",
       "      <th>pixel775</th>\n",
       "      <th>pixel776</th>\n",
       "      <th>pixel777</th>\n",
       "      <th>pixel778</th>\n",
       "      <th>pixel779</th>\n",
       "      <th>pixel780</th>\n",
       "      <th>pixel781</th>\n",
       "      <th>pixel782</th>\n",
       "      <th>pixel783</th>\n",
       "    </tr>\n",
       "  </thead>\n",
       "  <tbody>\n",
       "    <tr>\n",
       "      <th>0</th>\n",
       "      <td>0.0</td>\n",
       "      <td>0.0</td>\n",
       "      <td>0.0</td>\n",
       "      <td>0.0</td>\n",
       "      <td>0.0</td>\n",
       "      <td>0.0</td>\n",
       "      <td>0.0</td>\n",
       "      <td>0.0</td>\n",
       "      <td>0.0</td>\n",
       "      <td>0.0</td>\n",
       "      <td>...</td>\n",
       "      <td>0.0</td>\n",
       "      <td>0.0</td>\n",
       "      <td>0.0</td>\n",
       "      <td>0.0</td>\n",
       "      <td>0.0</td>\n",
       "      <td>0.0</td>\n",
       "      <td>0.0</td>\n",
       "      <td>0.0</td>\n",
       "      <td>0.0</td>\n",
       "      <td>0.0</td>\n",
       "    </tr>\n",
       "    <tr>\n",
       "      <th>1</th>\n",
       "      <td>0.0</td>\n",
       "      <td>0.0</td>\n",
       "      <td>0.0</td>\n",
       "      <td>0.0</td>\n",
       "      <td>0.0</td>\n",
       "      <td>0.0</td>\n",
       "      <td>0.0</td>\n",
       "      <td>0.0</td>\n",
       "      <td>0.0</td>\n",
       "      <td>0.0</td>\n",
       "      <td>...</td>\n",
       "      <td>0.0</td>\n",
       "      <td>0.0</td>\n",
       "      <td>0.0</td>\n",
       "      <td>0.0</td>\n",
       "      <td>0.0</td>\n",
       "      <td>0.0</td>\n",
       "      <td>0.0</td>\n",
       "      <td>0.0</td>\n",
       "      <td>0.0</td>\n",
       "      <td>0.0</td>\n",
       "    </tr>\n",
       "    <tr>\n",
       "      <th>2</th>\n",
       "      <td>0.0</td>\n",
       "      <td>0.0</td>\n",
       "      <td>0.0</td>\n",
       "      <td>0.0</td>\n",
       "      <td>0.0</td>\n",
       "      <td>0.0</td>\n",
       "      <td>0.0</td>\n",
       "      <td>0.0</td>\n",
       "      <td>0.0</td>\n",
       "      <td>0.0</td>\n",
       "      <td>...</td>\n",
       "      <td>0.0</td>\n",
       "      <td>0.0</td>\n",
       "      <td>0.0</td>\n",
       "      <td>0.0</td>\n",
       "      <td>0.0</td>\n",
       "      <td>0.0</td>\n",
       "      <td>0.0</td>\n",
       "      <td>0.0</td>\n",
       "      <td>0.0</td>\n",
       "      <td>0.0</td>\n",
       "    </tr>\n",
       "    <tr>\n",
       "      <th>3</th>\n",
       "      <td>0.0</td>\n",
       "      <td>0.0</td>\n",
       "      <td>0.0</td>\n",
       "      <td>0.0</td>\n",
       "      <td>0.0</td>\n",
       "      <td>0.0</td>\n",
       "      <td>0.0</td>\n",
       "      <td>0.0</td>\n",
       "      <td>0.0</td>\n",
       "      <td>0.0</td>\n",
       "      <td>...</td>\n",
       "      <td>0.0</td>\n",
       "      <td>0.0</td>\n",
       "      <td>0.0</td>\n",
       "      <td>0.0</td>\n",
       "      <td>0.0</td>\n",
       "      <td>0.0</td>\n",
       "      <td>0.0</td>\n",
       "      <td>0.0</td>\n",
       "      <td>0.0</td>\n",
       "      <td>0.0</td>\n",
       "    </tr>\n",
       "    <tr>\n",
       "      <th>4</th>\n",
       "      <td>0.0</td>\n",
       "      <td>0.0</td>\n",
       "      <td>0.0</td>\n",
       "      <td>0.0</td>\n",
       "      <td>0.0</td>\n",
       "      <td>0.0</td>\n",
       "      <td>0.0</td>\n",
       "      <td>0.0</td>\n",
       "      <td>0.0</td>\n",
       "      <td>0.0</td>\n",
       "      <td>...</td>\n",
       "      <td>0.0</td>\n",
       "      <td>0.0</td>\n",
       "      <td>0.0</td>\n",
       "      <td>0.0</td>\n",
       "      <td>0.0</td>\n",
       "      <td>0.0</td>\n",
       "      <td>0.0</td>\n",
       "      <td>0.0</td>\n",
       "      <td>0.0</td>\n",
       "      <td>0.0</td>\n",
       "    </tr>\n",
       "  </tbody>\n",
       "</table>\n",
       "<p>5 rows × 784 columns</p>\n",
       "</div>"
      ],
      "text/plain": [
       "   pixel0  pixel1  pixel2  pixel3  pixel4  pixel5  pixel6  pixel7  pixel8  \\\n",
       "0     0.0     0.0     0.0     0.0     0.0     0.0     0.0     0.0     0.0   \n",
       "1     0.0     0.0     0.0     0.0     0.0     0.0     0.0     0.0     0.0   \n",
       "2     0.0     0.0     0.0     0.0     0.0     0.0     0.0     0.0     0.0   \n",
       "3     0.0     0.0     0.0     0.0     0.0     0.0     0.0     0.0     0.0   \n",
       "4     0.0     0.0     0.0     0.0     0.0     0.0     0.0     0.0     0.0   \n",
       "\n",
       "   pixel9  ...  pixel774  pixel775  pixel776  pixel777  pixel778  pixel779  \\\n",
       "0     0.0  ...       0.0       0.0       0.0       0.0       0.0       0.0   \n",
       "1     0.0  ...       0.0       0.0       0.0       0.0       0.0       0.0   \n",
       "2     0.0  ...       0.0       0.0       0.0       0.0       0.0       0.0   \n",
       "3     0.0  ...       0.0       0.0       0.0       0.0       0.0       0.0   \n",
       "4     0.0  ...       0.0       0.0       0.0       0.0       0.0       0.0   \n",
       "\n",
       "   pixel780  pixel781  pixel782  pixel783  \n",
       "0       0.0       0.0       0.0       0.0  \n",
       "1       0.0       0.0       0.0       0.0  \n",
       "2       0.0       0.0       0.0       0.0  \n",
       "3       0.0       0.0       0.0       0.0  \n",
       "4       0.0       0.0       0.0       0.0  \n",
       "\n",
       "[5 rows x 784 columns]"
      ]
     },
     "execution_count": 80,
     "metadata": {},
     "output_type": "execute_result"
    },
    {
     "data": {
      "text/plain": [
       "0    1\n",
       "1    0\n",
       "2    1\n",
       "3    4\n",
       "4    0\n",
       "Name: label, dtype: int64"
      ]
     },
     "execution_count": 80,
     "metadata": {},
     "output_type": "execute_result"
    }
   ],
   "source": [
    "# Add validation set to training data and standardize\n",
    "\n",
    "X_valid, X_train = trainimages[:5000] / 255.0, trainimages[5000:] / 255.0\n",
    "Y_valid, Y_train = y[:5000], y[5000:]\n",
    "X_test = df_test / 255.0\n",
    "\n",
    "X_valid.shape\n",
    "X_train.shape\n",
    "Y_valid.shape\n",
    "Y_train.shape\n",
    "X_test.shape\n",
    "\n",
    "X_valid.head()\n",
    "Y_valid.head()"
   ]
  },
  {
   "cell_type": "code",
   "execution_count": 75,
   "id": "0f9f9507",
   "metadata": {},
   "outputs": [],
   "source": [
    "model = keras.models.Sequential()\n",
    "model.add(keras.layers.Dense(300, activation=\"relu\"))\n",
    "model.add(keras.layers.Dense(100, activation=\"relu\"))\n",
    "model.add(keras.layers.Dense(10, activation=\"softmax\"))"
   ]
  },
  {
   "cell_type": "code",
   "execution_count": 76,
   "id": "e69e8b68",
   "metadata": {},
   "outputs": [],
   "source": [
    "model.compile(loss=\"sparse_categorical_crossentropy\",\n",
    "              optimizer=\"sgd\",\n",
    "              metrics=[\"accuracy\"])"
   ]
  },
  {
   "cell_type": "code",
   "execution_count": 78,
   "id": "7732c1ae",
   "metadata": {},
   "outputs": [
    {
     "name": "stdout",
     "output_type": "stream",
     "text": [
      "Epoch 1/30\n",
      "1157/1157 [==============================] - 3s 3ms/step - loss: 0.1877 - accuracy: 0.9472 - val_loss: 0.1892 - val_accuracy: 0.9452\n",
      "Epoch 2/30\n",
      "1157/1157 [==============================] - 1s 1ms/step - loss: 0.1695 - accuracy: 0.9523 - val_loss: 0.1732 - val_accuracy: 0.9496\n",
      "Epoch 3/30\n",
      "1157/1157 [==============================] - 1s 1ms/step - loss: 0.1540 - accuracy: 0.9566 - val_loss: 0.1663 - val_accuracy: 0.9524\n",
      "Epoch 4/30\n",
      "1157/1157 [==============================] - 1s 1ms/step - loss: 0.1408 - accuracy: 0.9601 - val_loss: 0.1616 - val_accuracy: 0.9542\n",
      "Epoch 5/30\n",
      "1157/1157 [==============================] - 1s 1ms/step - loss: 0.1302 - accuracy: 0.9635 - val_loss: 0.1441 - val_accuracy: 0.9592\n",
      "Epoch 6/30\n",
      "1157/1157 [==============================] - 1s 1ms/step - loss: 0.1203 - accuracy: 0.9653 - val_loss: 0.1373 - val_accuracy: 0.9600\n",
      "Epoch 7/30\n",
      "1157/1157 [==============================] - 1s 1ms/step - loss: 0.1117 - accuracy: 0.9691 - val_loss: 0.1350 - val_accuracy: 0.9602\n",
      "Epoch 8/30\n",
      "1157/1157 [==============================] - 1s 1ms/step - loss: 0.1040 - accuracy: 0.9713 - val_loss: 0.1274 - val_accuracy: 0.9626\n",
      "Epoch 9/30\n",
      "1157/1157 [==============================] - 1s 1ms/step - loss: 0.0964 - accuracy: 0.9728 - val_loss: 0.1217 - val_accuracy: 0.9640\n",
      "Epoch 10/30\n",
      "1157/1157 [==============================] - 1s 1ms/step - loss: 0.0905 - accuracy: 0.9750 - val_loss: 0.1195 - val_accuracy: 0.9644\n",
      "Epoch 11/30\n",
      "1157/1157 [==============================] - 1s 1ms/step - loss: 0.0847 - accuracy: 0.9765 - val_loss: 0.1131 - val_accuracy: 0.9672\n",
      "Epoch 12/30\n",
      "1157/1157 [==============================] - 1s 1ms/step - loss: 0.0792 - accuracy: 0.9779 - val_loss: 0.1109 - val_accuracy: 0.9672\n",
      "Epoch 13/30\n",
      "1157/1157 [==============================] - 1s 1ms/step - loss: 0.0745 - accuracy: 0.9797 - val_loss: 0.1091 - val_accuracy: 0.9670\n",
      "Epoch 14/30\n",
      "1157/1157 [==============================] - 1s 1ms/step - loss: 0.0699 - accuracy: 0.9808 - val_loss: 0.1058 - val_accuracy: 0.9692\n",
      "Epoch 15/30\n",
      "1157/1157 [==============================] - 1s 1ms/step - loss: 0.0656 - accuracy: 0.9821 - val_loss: 0.1025 - val_accuracy: 0.9698\n",
      "Epoch 16/30\n",
      "1157/1157 [==============================] - 1s 1ms/step - loss: 0.0619 - accuracy: 0.9835 - val_loss: 0.1035 - val_accuracy: 0.9686\n",
      "Epoch 17/30\n",
      "1157/1157 [==============================] - 1s 1ms/step - loss: 0.0584 - accuracy: 0.9847 - val_loss: 0.0982 - val_accuracy: 0.9710\n",
      "Epoch 18/30\n",
      "1157/1157 [==============================] - 1s 1ms/step - loss: 0.0550 - accuracy: 0.9858 - val_loss: 0.0965 - val_accuracy: 0.9706\n",
      "Epoch 19/30\n",
      "1157/1157 [==============================] - 1s 1ms/step - loss: 0.0520 - accuracy: 0.9866 - val_loss: 0.0974 - val_accuracy: 0.9716\n",
      "Epoch 20/30\n",
      "1157/1157 [==============================] - 1s 1ms/step - loss: 0.0488 - accuracy: 0.9877 - val_loss: 0.0949 - val_accuracy: 0.9722\n",
      "Epoch 21/30\n",
      "1157/1157 [==============================] - 1s 1ms/step - loss: 0.0464 - accuracy: 0.9886 - val_loss: 0.0934 - val_accuracy: 0.9716\n",
      "Epoch 22/30\n",
      "1157/1157 [==============================] - 1s 1ms/step - loss: 0.0438 - accuracy: 0.9895 - val_loss: 0.0916 - val_accuracy: 0.9732\n",
      "Epoch 23/30\n",
      "1157/1157 [==============================] - 1s 1ms/step - loss: 0.0415 - accuracy: 0.9905 - val_loss: 0.0925 - val_accuracy: 0.9724\n",
      "Epoch 24/30\n",
      "1157/1157 [==============================] - 1s 1ms/step - loss: 0.0391 - accuracy: 0.9912 - val_loss: 0.0913 - val_accuracy: 0.9736\n",
      "Epoch 25/30\n",
      "1157/1157 [==============================] - 1s 1ms/step - loss: 0.0373 - accuracy: 0.9909 - val_loss: 0.0883 - val_accuracy: 0.9732\n",
      "Epoch 26/30\n",
      "1157/1157 [==============================] - 1s 1ms/step - loss: 0.0350 - accuracy: 0.9922 - val_loss: 0.0890 - val_accuracy: 0.9734\n",
      "Epoch 27/30\n",
      "1157/1157 [==============================] - 1s 1ms/step - loss: 0.0334 - accuracy: 0.9929 - val_loss: 0.0909 - val_accuracy: 0.9730\n",
      "Epoch 28/30\n",
      "1157/1157 [==============================] - 1s 1ms/step - loss: 0.0316 - accuracy: 0.9936 - val_loss: 0.0898 - val_accuracy: 0.9736\n",
      "Epoch 29/30\n",
      "1157/1157 [==============================] - 1s 1ms/step - loss: 0.0300 - accuracy: 0.9938 - val_loss: 0.0860 - val_accuracy: 0.9738\n",
      "Epoch 30/30\n",
      "1157/1157 [==============================] - 1s 1ms/step - loss: 0.0285 - accuracy: 0.9944 - val_loss: 0.0877 - val_accuracy: 0.9754\n"
     ]
    }
   ],
   "source": [
    "history = model.fit(X_train, Y_train, epochs=30,\n",
    "                    validation_data=(X_valid, Y_valid))"
   ]
  },
  {
   "cell_type": "code",
   "execution_count": 79,
   "id": "46b95fc6",
   "metadata": {},
   "outputs": [
    {
     "data": {
      "text/plain": [
       "<AxesSubplot:>"
      ]
     },
     "execution_count": 79,
     "metadata": {},
     "output_type": "execute_result"
    },
    {
     "data": {
      "text/plain": [
       "(0.0, 1.0)"
      ]
     },
     "execution_count": 79,
     "metadata": {},
     "output_type": "execute_result"
    },
    {
     "data": {
      "image/png": "[encoded data removed]",
      "text/plain": [
       "<Figure size 576x360 with 1 Axes>"
      ]
     },
     "metadata": {},
     "output_type": "display_data"
    }
   ],
   "source": [
    "import pandas as pd\n",
    "import matplotlib.pyplot as plt\n",
    "\n",
    "pd.DataFrame(history.history).plot(figsize=(8, 5))\n",
    "plt.grid(True)\n",
    "plt.gca().set_ylim(0, 1) # set the vertical range to [0-1]\n",
    "plt.show()"
   ]
  },
  {
   "cell_type": "code",
   "execution_count": 83,
   "id": "ae81d4d7",
   "metadata": {},
   "outputs": [
    {
     "data": {
      "text/html": [
       "<div>\n",
       "<style scoped>\n",
       "    .dataframe tbody tr th:only-of-type {\n",
       "        vertical-align: middle;\n",
       "    }\n",
       "\n",
       "    .dataframe tbody tr th {\n",
       "        vertical-align: top;\n",
       "    }\n",
       "\n",
       "    .dataframe thead th {\n",
       "        text-align: right;\n",
       "    }\n",
       "</style>\n",
       "<table border=\"1\" class=\"dataframe\">\n",
       "  <thead>\n",
       "    <tr style=\"text-align: right;\">\n",
       "      <th></th>\n",
       "      <th>ImageId</th>\n",
       "      <th>Label</th>\n",
       "    </tr>\n",
       "  </thead>\n",
       "  <tbody>\n",
       "    <tr>\n",
       "      <th>0</th>\n",
       "      <td>1</td>\n",
       "      <td>2</td>\n",
       "    </tr>\n",
       "    <tr>\n",
       "      <th>1</th>\n",
       "      <td>2</td>\n",
       "      <td>0</td>\n",
       "    </tr>\n",
       "    <tr>\n",
       "      <th>2</th>\n",
       "      <td>3</td>\n",
       "      <td>9</td>\n",
       "    </tr>\n",
       "    <tr>\n",
       "      <th>3</th>\n",
       "      <td>4</td>\n",
       "      <td>9</td>\n",
       "    </tr>\n",
       "    <tr>\n",
       "      <th>4</th>\n",
       "      <td>5</td>\n",
       "      <td>3</td>\n",
       "    </tr>\n",
       "  </tbody>\n",
       "</table>\n",
       "</div>"
      ],
      "text/plain": [
       "   ImageId  Label\n",
       "0        1      2\n",
       "1        2      0\n",
       "2        3      9\n",
       "3        4      9\n",
       "4        5      3"
      ]
     },
     "execution_count": 83,
     "metadata": {},
     "output_type": "execute_result"
    },
    {
     "data": {
      "text/plain": [
       "(28000, 2)"
      ]
     },
     "execution_count": 83,
     "metadata": {},
     "output_type": "execute_result"
    }
   ],
   "source": [
    "# Make Predictions and Submit\n",
    "\n",
    "pred = np.argmax(model.predict(X_test), axis=-1)\n",
    "\n",
    "#Create Submission\n",
    "\n",
    "submit = pd.DataFrame()\n",
    "\n",
    "submit['ImageId'] = image_id\n",
    "submit['Label'] = pred\n",
    "\n",
    "submit.to_csv('submission6.csv',index=False)\n",
    "\n",
    "submit.head()\n",
    "\n",
    "submit.shape\n"
   ]
  },
  {
   "cell_type": "markdown",
   "id": "a91c5f8a",
   "metadata": {},
   "source": [
    "This base ANN got a score of .97035, my best score yet."
   ]
  },
  {
   "cell_type": "code",
   "execution_count": 85,
   "id": "0c3c9dd2",
   "metadata": {},
   "outputs": [],
   "source": [
    "#function to initiate model\n",
    "\n",
    "def build_model(hp):\n",
    "    model = keras.Sequential()\n",
    "\n",
    "    #model.add(layers.Dense(hp.Int('input_units',\n",
    "                                #min_value=32,\n",
    "                                #max_value=256,\n",
    "                                #step=32), activation='relu'))\n",
    "    \n",
    "              \n",
    "    for i in range(hp.Int('n_layers', 1, 4)):  # adding variation of layers.\n",
    "        model.add(layers.Dense(hp.Int(f'dense_{i}_units',\n",
    "                                min_value=32,\n",
    "                                max_value=256,\n",
    "                                step=32), activation='relu'))\n",
    "    \n",
    "    model.add(layers.Dense(10, activation='softmax'))\n",
    "              \n",
    "    model.compile(loss=\"sparse_categorical_crossentropy\",\n",
    "              optimizer=\"sgd\",\n",
    "              metrics=[\"accuracy\"])\n",
    "    return model"
   ]
  },
  {
   "cell_type": "code",
   "execution_count": 102,
   "id": "74336c40",
   "metadata": {},
   "outputs": [],
   "source": [
    "tuner = RandomSearch(\n",
    "    build_model,\n",
    "    objective='val_accuracy',\n",
    "    max_trials=5,\n",
    "    executions_per_trial=3,\n",
    "    directory='Digit_Tuner2')"
   ]
  },
  {
   "cell_type": "code",
   "execution_count": 93,
   "id": "5cf09793",
   "metadata": {},
   "outputs": [
    {
     "name": "stdout",
     "output_type": "stream",
     "text": [
      "Trial 5 Complete [00h 01m 20s]\n",
      "val_accuracy: 0.9547333319981893\n",
      "\n",
      "Best val_accuracy So Far: 0.9636666774749756\n",
      "Total elapsed time: 00h 07m 19s\n",
      "INFO:tensorflow:Oracle triggered exit\n",
      "0:07:19.811960\n"
     ]
    }
   ],
   "source": [
    "\n",
    "\n",
    "tuner.search(X_train, Y_train,\n",
    "            epochs=10,\n",
    "            validation_data = (X_valid, Y_valid))\n",
    "\n"
   ]
  },
  {
   "cell_type": "code",
   "execution_count": 94,
   "id": "e67abc46",
   "metadata": {},
   "outputs": [
    {
     "name": "stdout",
     "output_type": "stream",
     "text": [
      "Results summary\n",
      "Results in Digit_Tuner\\untitled_project\n",
      "Showing 10 best trials\n",
      "Objective(name='val_accuracy', direction='max')\n",
      "Trial summary\n",
      "Hyperparameters:\n",
      "input_units: 160\n",
      "n_layers: 4\n",
      "dense_0_units: 32\n",
      "dense_1_units: 32\n",
      "dense_2_units: 32\n",
      "dense_3_units: 32\n",
      "Score: 0.9636666774749756\n",
      "Trial summary\n",
      "Hyperparameters:\n",
      "input_units: 224\n",
      "n_layers: 2\n",
      "dense_0_units: 224\n",
      "dense_1_units: 192\n",
      "dense_2_units: 224\n",
      "dense_3_units: 256\n",
      "Score: 0.9636666774749756\n",
      "Trial summary\n",
      "Hyperparameters:\n",
      "input_units: 64\n",
      "n_layers: 2\n",
      "dense_0_units: 96\n",
      "dense_1_units: 128\n",
      "dense_2_units: 192\n",
      "dense_3_units: 224\n",
      "Score: 0.9547333319981893\n",
      "Trial summary\n",
      "Hyperparameters:\n",
      "input_units: 160\n",
      "n_layers: 1\n",
      "dense_0_units: 192\n",
      "dense_1_units: 224\n",
      "dense_2_units: 160\n",
      "dense_3_units: 256\n",
      "Score: 0.9542666673660278\n",
      "Trial summary\n",
      "Hyperparameters:\n",
      "input_units: 32\n",
      "n_layers: 3\n",
      "dense_0_units: 192\n",
      "dense_1_units: 96\n",
      "dense_2_units: 256\n",
      "dense_3_units: 224\n",
      "Score: 0.9517333507537842\n"
     ]
    }
   ],
   "source": [
    "tuner.results_summary()"
   ]
  },
  {
   "cell_type": "code",
   "execution_count": 98,
   "id": "a976fc62",
   "metadata": {},
   "outputs": [],
   "source": [
    "model = keras.models.Sequential()\n",
    "model.add(keras.layers.Dense(160, activation=\"relu\"))\n",
    "model.add(keras.layers.Dense(160, activation=\"relu\"))\n",
    "model.add(keras.layers.Dense(160, activation=\"relu\"))\n",
    "model.add(keras.layers.Dense(10, activation=\"softmax\"))"
   ]
  },
  {
   "cell_type": "code",
   "execution_count": 99,
   "id": "0238dcd6",
   "metadata": {},
   "outputs": [],
   "source": [
    "model.compile(loss=\"sparse_categorical_crossentropy\",\n",
    "              optimizer=\"sgd\",\n",
    "              metrics=[\"accuracy\"])"
   ]
  },
  {
   "cell_type": "code",
   "execution_count": 100,
   "id": "22dfc257",
   "metadata": {},
   "outputs": [
    {
     "name": "stdout",
     "output_type": "stream",
     "text": [
      "Epoch 1/30\n",
      "1157/1157 [==============================] - 4s 3ms/step - loss: 0.7993 - accuracy: 0.7872 - val_loss: 0.3721 - val_accuracy: 0.8918\n",
      "Epoch 2/30\n",
      "1157/1157 [==============================] - 1s 1ms/step - loss: 0.3177 - accuracy: 0.9064 - val_loss: 0.2813 - val_accuracy: 0.9170\n",
      "Epoch 3/30\n",
      "1157/1157 [==============================] - 1s 1ms/step - loss: 0.2575 - accuracy: 0.9251 - val_loss: 0.2393 - val_accuracy: 0.9326\n",
      "Epoch 4/30\n",
      "1157/1157 [==============================] - 1s 1ms/step - loss: 0.2199 - accuracy: 0.9348 - val_loss: 0.2070 - val_accuracy: 0.9396\n",
      "Epoch 5/30\n",
      "1157/1157 [==============================] - 2s 1ms/step - loss: 0.1912 - accuracy: 0.9447 - val_loss: 0.1835 - val_accuracy: 0.9474\n",
      "Epoch 6/30\n",
      "1157/1157 [==============================] - 2s 1ms/step - loss: 0.1689 - accuracy: 0.9513 - val_loss: 0.1673 - val_accuracy: 0.9530\n",
      "Epoch 7/30\n",
      "1157/1157 [==============================] - 2s 1ms/step - loss: 0.1505 - accuracy: 0.9561 - val_loss: 0.1525 - val_accuracy: 0.9576\n",
      "Epoch 8/30\n",
      "1157/1157 [==============================] - 1s 1ms/step - loss: 0.1355 - accuracy: 0.9609 - val_loss: 0.1522 - val_accuracy: 0.9568\n",
      "Epoch 9/30\n",
      "1157/1157 [==============================] - 1s 1ms/step - loss: 0.1223 - accuracy: 0.9648 - val_loss: 0.1336 - val_accuracy: 0.9618\n",
      "Epoch 10/30\n",
      "1157/1157 [==============================] - 1s 1ms/step - loss: 0.1117 - accuracy: 0.9671 - val_loss: 0.1335 - val_accuracy: 0.9610\n",
      "Epoch 11/30\n",
      "1157/1157 [==============================] - 1s 1ms/step - loss: 0.1027 - accuracy: 0.9702 - val_loss: 0.1202 - val_accuracy: 0.9662\n",
      "Epoch 12/30\n",
      "1157/1157 [==============================] - 1s 1ms/step - loss: 0.0939 - accuracy: 0.9731 - val_loss: 0.1184 - val_accuracy: 0.9676\n",
      "Epoch 13/30\n",
      "1157/1157 [==============================] - 1s 1ms/step - loss: 0.0869 - accuracy: 0.9744 - val_loss: 0.1239 - val_accuracy: 0.9640\n",
      "Epoch 14/30\n",
      "1157/1157 [==============================] - 1s 1ms/step - loss: 0.0795 - accuracy: 0.9769 - val_loss: 0.1080 - val_accuracy: 0.9698\n",
      "Epoch 15/30\n",
      "1157/1157 [==============================] - 1s 1ms/step - loss: 0.0731 - accuracy: 0.9796 - val_loss: 0.1282 - val_accuracy: 0.9630\n",
      "Epoch 16/30\n",
      "1157/1157 [==============================] - 1s 1ms/step - loss: 0.0678 - accuracy: 0.9804 - val_loss: 0.1043 - val_accuracy: 0.9684\n",
      "Epoch 17/30\n",
      "1157/1157 [==============================] - 1s 1ms/step - loss: 0.0629 - accuracy: 0.9824 - val_loss: 0.1017 - val_accuracy: 0.9694\n",
      "Epoch 18/30\n",
      "1157/1157 [==============================] - 1s 1ms/step - loss: 0.0586 - accuracy: 0.9836 - val_loss: 0.0978 - val_accuracy: 0.9724\n",
      "Epoch 19/30\n",
      "1157/1157 [==============================] - 1s 1ms/step - loss: 0.0536 - accuracy: 0.9850 - val_loss: 0.0990 - val_accuracy: 0.9712\n",
      "Epoch 20/30\n",
      "1157/1157 [==============================] - 1s 1ms/step - loss: 0.0495 - accuracy: 0.9866 - val_loss: 0.0976 - val_accuracy: 0.9720\n",
      "Epoch 21/30\n",
      "1157/1157 [==============================] - 1s 1ms/step - loss: 0.0464 - accuracy: 0.9876 - val_loss: 0.0974 - val_accuracy: 0.9710\n",
      "Epoch 22/30\n",
      "1157/1157 [==============================] - 1s 1ms/step - loss: 0.0433 - accuracy: 0.9879 - val_loss: 0.1013 - val_accuracy: 0.9698\n",
      "Epoch 23/30\n",
      "1157/1157 [==============================] - 1s 1ms/step - loss: 0.0403 - accuracy: 0.9893 - val_loss: 0.0951 - val_accuracy: 0.9724\n",
      "Epoch 24/30\n",
      "1157/1157 [==============================] - 1s 1ms/step - loss: 0.0373 - accuracy: 0.9907 - val_loss: 0.0938 - val_accuracy: 0.9736\n",
      "Epoch 25/30\n",
      "1157/1157 [==============================] - 1s 1ms/step - loss: 0.0343 - accuracy: 0.9915 - val_loss: 0.0951 - val_accuracy: 0.9736\n",
      "Epoch 26/30\n",
      "1157/1157 [==============================] - 1s 1ms/step - loss: 0.0321 - accuracy: 0.9924 - val_loss: 0.0919 - val_accuracy: 0.9740\n",
      "Epoch 27/30\n",
      "1157/1157 [==============================] - 1s 1ms/step - loss: 0.0298 - accuracy: 0.9933 - val_loss: 0.0920 - val_accuracy: 0.9754\n",
      "Epoch 28/30\n",
      "1157/1157 [==============================] - 1s 1ms/step - loss: 0.0277 - accuracy: 0.9936 - val_loss: 0.0900 - val_accuracy: 0.9760\n",
      "Epoch 29/30\n",
      "1157/1157 [==============================] - 1s 1ms/step - loss: 0.0250 - accuracy: 0.9948 - val_loss: 0.0935 - val_accuracy: 0.9752\n",
      "Epoch 30/30\n",
      "1157/1157 [==============================] - 1s 1ms/step - loss: 0.0232 - accuracy: 0.9951 - val_loss: 0.0923 - val_accuracy: 0.9754\n"
     ]
    }
   ],
   "source": [
    "history = model.fit(X_train, Y_train, epochs=30,\n",
    "                    validation_data=(X_valid, Y_valid))"
   ]
  },
  {
   "cell_type": "code",
   "execution_count": 103,
   "id": "63e3f4ca",
   "metadata": {},
   "outputs": [
    {
     "name": "stdout",
     "output_type": "stream",
     "text": [
      "Trial 5 Complete [00h 03m 18s]\n",
      "val_accuracy: 0.9758666555086771\n",
      "\n",
      "Best val_accuracy So Far: 0.9758666555086771\n",
      "Total elapsed time: 00h 14m 54s\n",
      "INFO:tensorflow:Oracle triggered exit\n"
     ]
    }
   ],
   "source": [
    "tuner.search(X_train, Y_train,\n",
    "            epochs=30,\n",
    "            validation_data = (X_valid, Y_valid))"
   ]
  },
  {
   "cell_type": "code",
   "execution_count": 104,
   "id": "e6867785",
   "metadata": {},
   "outputs": [
    {
     "name": "stdout",
     "output_type": "stream",
     "text": [
      "Results summary\n",
      "Results in Digit_Tuner2\\untitled_project\n",
      "Showing 10 best trials\n",
      "Objective(name='val_accuracy', direction='max')\n",
      "Trial summary\n",
      "Hyperparameters:\n",
      "input_units: 160\n",
      "n_layers: 3\n",
      "dense_0_units: 192\n",
      "dense_1_units: 128\n",
      "dense_2_units: 128\n",
      "dense_3_units: 128\n",
      "Score: 0.9758666555086771\n",
      "Trial summary\n",
      "Hyperparameters:\n",
      "input_units: 96\n",
      "n_layers: 2\n",
      "dense_0_units: 224\n",
      "dense_1_units: 192\n",
      "dense_2_units: 224\n",
      "dense_3_units: 256\n",
      "Score: 0.9747333327929179\n",
      "Trial summary\n",
      "Hyperparameters:\n",
      "input_units: 192\n",
      "n_layers: 4\n",
      "dense_0_units: 128\n",
      "dense_1_units: 256\n",
      "dense_2_units: 32\n",
      "dense_3_units: 32\n",
      "Score: 0.9745333393414816\n",
      "Trial summary\n",
      "Hyperparameters:\n",
      "input_units: 96\n",
      "n_layers: 2\n",
      "dense_0_units: 128\n",
      "dense_1_units: 192\n",
      "dense_2_units: 96\n",
      "dense_3_units: 64\n",
      "Score: 0.9735333323478699\n",
      "Trial summary\n",
      "Hyperparameters:\n",
      "input_units: 64\n",
      "n_layers: 2\n",
      "dense_0_units: 192\n",
      "dense_1_units: 32\n",
      "Score: 0.9717999895413717\n"
     ]
    }
   ],
   "source": [
    "tuner.results_summary()"
   ]
  },
  {
   "cell_type": "code",
   "execution_count": 114,
   "id": "7d1a4617",
   "metadata": {},
   "outputs": [
    {
     "name": "stdout",
     "output_type": "stream",
     "text": [
      "Epoch 1/10\n",
      "1157/1157 [==============================] - 8s 7ms/step - loss: 0.2231 - accuracy: 0.9323 - val_loss: 0.1403 - val_accuracy: 0.9568\n",
      "Epoch 2/10\n",
      "1157/1157 [==============================] - 5s 5ms/step - loss: 0.0995 - accuracy: 0.9706 - val_loss: 0.1115 - val_accuracy: 0.9686\n",
      "Epoch 3/10\n",
      "1157/1157 [==============================] - 5s 5ms/step - loss: 0.0690 - accuracy: 0.9791 - val_loss: 0.1106 - val_accuracy: 0.9676\n",
      "Epoch 4/10\n",
      "1157/1157 [==============================] - 5s 5ms/step - loss: 0.0498 - accuracy: 0.9855 - val_loss: 0.0942 - val_accuracy: 0.9772\n",
      "Epoch 5/10\n",
      "1157/1157 [==============================] - 5s 5ms/step - loss: 0.0395 - accuracy: 0.9885 - val_loss: 0.0918 - val_accuracy: 0.9764\n",
      "Epoch 6/10\n",
      "1157/1157 [==============================] - 5s 5ms/step - loss: 0.0316 - accuracy: 0.9906 - val_loss: 0.0966 - val_accuracy: 0.9770\n",
      "Epoch 7/10\n",
      "1157/1157 [==============================] - 6s 5ms/step - loss: 0.0235 - accuracy: 0.9929 - val_loss: 0.1052 - val_accuracy: 0.9772\n",
      "Epoch 8/10\n",
      "1157/1157 [==============================] - 6s 5ms/step - loss: 0.0165 - accuracy: 0.9950 - val_loss: 0.0995 - val_accuracy: 0.9790\n",
      "Epoch 9/10\n",
      "1157/1157 [==============================] - 6s 5ms/step - loss: 0.0147 - accuracy: 0.9958 - val_loss: 0.0990 - val_accuracy: 0.9802\n",
      "Epoch 10/10\n",
      "1157/1157 [==============================] - 6s 5ms/step - loss: 0.0108 - accuracy: 0.9971 - val_loss: 0.1306 - val_accuracy: 0.9790\n"
     ]
    }
   ],
   "source": [
    "\n",
    "\n",
    "model = keras.models.Sequential()\n",
    "model.add(keras.layers.Dense(512, activation=\"relu\", input_shape=(784,)))\n",
    "model.add(keras.layers.Dense(350, activation=\"tanh\"))\n",
    "model.add(keras.layers.Dense(10, activation=\"softmax\"))\n",
    "model.compile(loss=\"sparse_categorical_crossentropy\",\n",
    "              optimizer=RMSprop(),\n",
    "              metrics=[\"accuracy\"])\n",
    "\n",
    "history = model.fit(X_train, Y_train, epochs=10,\n",
    "                    validation_data=(X_valid, Y_valid))"
   ]
  },
  {
   "cell_type": "code",
   "execution_count": 115,
   "id": "1c7191b2",
   "metadata": {},
   "outputs": [
    {
     "data": {
      "text/plain": [
       "[<matplotlib.lines.Line2D at 0x278818e8430>]"
      ]
     },
     "execution_count": 115,
     "metadata": {},
     "output_type": "execute_result"
    },
    {
     "data": {
      "text/plain": [
       "[<matplotlib.lines.Line2D at 0x278818e8820>]"
      ]
     },
     "execution_count": 115,
     "metadata": {},
     "output_type": "execute_result"
    },
    {
     "data": {
      "text/plain": [
       "Text(0.5, 1.0, 'model loss')"
      ]
     },
     "execution_count": 115,
     "metadata": {},
     "output_type": "execute_result"
    },
    {
     "data": {
      "text/plain": [
       "Text(0, 0.5, 'loss')"
      ]
     },
     "execution_count": 115,
     "metadata": {},
     "output_type": "execute_result"
    },
    {
     "data": {
      "text/plain": [
       "Text(0.5, 0, 'epoch')"
      ]
     },
     "execution_count": 115,
     "metadata": {},
     "output_type": "execute_result"
    },
    {
     "data": {
      "text/plain": [
       "<matplotlib.legend.Legend at 0x278818e8c40>"
      ]
     },
     "execution_count": 115,
     "metadata": {},
     "output_type": "execute_result"
    },
    {
     "data": {
      "image/png": "[encoded data removed]",
      "text/plain": [
       "<Figure size 432x288 with 1 Axes>"
      ]
     },
     "metadata": {},
     "output_type": "display_data"
    }
   ],
   "source": [
    "plt.plot(history.history['loss'])\n",
    "plt.plot(history.history['val_loss'])\n",
    "plt.title('model loss')\n",
    "plt.ylabel('loss')\n",
    "plt.xlabel('epoch')\n",
    "plt.legend(['train', 'test'], loc='upper left')"
   ]
  },
  {
   "cell_type": "code",
   "execution_count": 116,
   "id": "80c3d7a6",
   "metadata": {},
   "outputs": [
    {
     "data": {
      "text/html": [
       "<div>\n",
       "<style scoped>\n",
       "    .dataframe tbody tr th:only-of-type {\n",
       "        vertical-align: middle;\n",
       "    }\n",
       "\n",
       "    .dataframe tbody tr th {\n",
       "        vertical-align: top;\n",
       "    }\n",
       "\n",
       "    .dataframe thead th {\n",
       "        text-align: right;\n",
       "    }\n",
       "</style>\n",
       "<table border=\"1\" class=\"dataframe\">\n",
       "  <thead>\n",
       "    <tr style=\"text-align: right;\">\n",
       "      <th></th>\n",
       "      <th>ImageId</th>\n",
       "      <th>Label</th>\n",
       "    </tr>\n",
       "  </thead>\n",
       "  <tbody>\n",
       "    <tr>\n",
       "      <th>0</th>\n",
       "      <td>1</td>\n",
       "      <td>2</td>\n",
       "    </tr>\n",
       "    <tr>\n",
       "      <th>1</th>\n",
       "      <td>2</td>\n",
       "      <td>0</td>\n",
       "    </tr>\n",
       "    <tr>\n",
       "      <th>2</th>\n",
       "      <td>3</td>\n",
       "      <td>9</td>\n",
       "    </tr>\n",
       "    <tr>\n",
       "      <th>3</th>\n",
       "      <td>4</td>\n",
       "      <td>9</td>\n",
       "    </tr>\n",
       "    <tr>\n",
       "      <th>4</th>\n",
       "      <td>5</td>\n",
       "      <td>3</td>\n",
       "    </tr>\n",
       "  </tbody>\n",
       "</table>\n",
       "</div>"
      ],
      "text/plain": [
       "   ImageId  Label\n",
       "0        1      2\n",
       "1        2      0\n",
       "2        3      9\n",
       "3        4      9\n",
       "4        5      3"
      ]
     },
     "execution_count": 116,
     "metadata": {},
     "output_type": "execute_result"
    },
    {
     "data": {
      "text/plain": [
       "(28000, 2)"
      ]
     },
     "execution_count": 116,
     "metadata": {},
     "output_type": "execute_result"
    }
   ],
   "source": [
    "# Make Predictions and Submit\n",
    "\n",
    "pred = np.argmax(model.predict(X_test), axis=-1)\n",
    "\n",
    "#Create Submission\n",
    "\n",
    "submit = pd.DataFrame()\n",
    "\n",
    "submit['ImageId'] = image_id\n",
    "submit['Label'] = pred\n",
    "\n",
    "submit.to_csv('submission7.csv',index=False)\n",
    "\n",
    "submit.head()\n",
    "\n",
    "submit.shape\n"
   ]
  },
  {
   "cell_type": "code",
   "execution_count": 142,
   "id": "fbc6ddda",
   "metadata": {},
   "outputs": [
    {
     "name": "stdout",
     "output_type": "stream",
     "text": [
      "Epoch 1/10\n",
      "1157/1157 [==============================] - 8s 7ms/step - loss: 0.2219 - accuracy: 0.9319 - val_loss: 0.1202 - val_accuracy: 0.9634\n",
      "Epoch 2/10\n",
      "1157/1157 [==============================] - 6s 5ms/step - loss: 0.0990 - accuracy: 0.9702 - val_loss: 0.0987 - val_accuracy: 0.9706\n",
      "Epoch 3/10\n",
      "1157/1157 [==============================] - 6s 5ms/step - loss: 0.0668 - accuracy: 0.9795 - val_loss: 0.0982 - val_accuracy: 0.9752\n",
      "Epoch 4/10\n",
      "1157/1157 [==============================] - 6s 5ms/step - loss: 0.0500 - accuracy: 0.9845 - val_loss: 0.1006 - val_accuracy: 0.9750\n",
      "Epoch 5/10\n",
      "1157/1157 [==============================] - 6s 5ms/step - loss: 0.0363 - accuracy: 0.9891 - val_loss: 0.0995 - val_accuracy: 0.9752\n",
      "Epoch 6/10\n",
      "1157/1157 [==============================] - 6s 5ms/step - loss: 0.0293 - accuracy: 0.9914 - val_loss: 0.1231 - val_accuracy: 0.9738\n",
      "Epoch 7/10\n",
      "1157/1157 [==============================] - 6s 5ms/step - loss: 0.0233 - accuracy: 0.9933 - val_loss: 0.1081 - val_accuracy: 0.9780\n",
      "Epoch 8/10\n",
      "1157/1157 [==============================] - 6s 5ms/step - loss: 0.0173 - accuracy: 0.9951 - val_loss: 0.1186 - val_accuracy: 0.9788\n",
      "Epoch 9/10\n",
      "1157/1157 [==============================] - 6s 5ms/step - loss: 0.0154 - accuracy: 0.9957 - val_loss: 0.1005 - val_accuracy: 0.9790\n",
      "Epoch 10/10\n",
      "1157/1157 [==============================] - 6s 5ms/step - loss: 0.0130 - accuracy: 0.9968 - val_loss: 0.1388 - val_accuracy: 0.9756\n",
      "0:01:11.778919\n"
     ]
    }
   ],
   "source": [
    "start=datetime.datetime.now()\n",
    "\n",
    "model = keras.models.Sequential()\n",
    "model.add(keras.layers.Dense(512, activation=\"relu\", input_shape=(784,)))\n",
    "model.add(keras.layers.Dense(350, activation=\"tanh\"))\n",
    "model.add(keras.layers.Dense(10, activation=\"softmax\"))\n",
    "model.compile(loss=\"sparse_categorical_crossentropy\",\n",
    "              optimizer='RMSprop',\n",
    "              metrics=[\"accuracy\"])\n",
    "\n",
    "history = model.fit(X_train, Y_train, epochs=10,\n",
    "                    validation_data=(X_valid, Y_valid))\n",
    "\n",
    "end=datetime.datetime.now()\n",
    "print(end-start)"
   ]
  },
  {
   "cell_type": "code",
   "execution_count": 134,
   "id": "5bde323c",
   "metadata": {},
   "outputs": [],
   "source": [
    "from sklearn import metrics\n",
    "from sklearn.metrics import confusion_matrix\n",
    "\n",
    "X_pred = np.argmax(model.predict(X_train), axis=-1)\n"
   ]
  },
  {
   "cell_type": "code",
   "execution_count": 141,
   "id": "f1ef6358",
   "metadata": {},
   "outputs": [
    {
     "data": {
      "text/plain": [
       "<Figure size 864x864 with 0 Axes>"
      ]
     },
     "execution_count": 141,
     "metadata": {},
     "output_type": "execute_result"
    },
    {
     "data": {
      "text/plain": [
       "<AxesSubplot:>"
      ]
     },
     "execution_count": 141,
     "metadata": {},
     "output_type": "execute_result"
    },
    {
     "data": {
      "text/plain": [
       "Text(0.5, 1.0, 'Confusion Matrix')"
      ]
     },
     "execution_count": 141,
     "metadata": {},
     "output_type": "execute_result"
    },
    {
     "data": {
      "text/plain": [
       "Text(84.5, 0.5, 'Actal Values')"
      ]
     },
     "execution_count": 141,
     "metadata": {},
     "output_type": "execute_result"
    },
    {
     "data": {
      "text/plain": [
       "Text(0.5, 84.5, 'Predicted Values')"
      ]
     },
     "execution_count": 141,
     "metadata": {},
     "output_type": "execute_result"
    },
    {
     "data": {
      "image/png": "[encoded data removed]",
      "text/plain": [
       "<Figure size 864x864 with 2 Axes>"
      ]
     },
     "metadata": {},
     "output_type": "display_data"
    }
   ],
   "source": [
    "cm = metrics.confusion_matrix(Y_train, X_pred)\n",
    "\n",
    "cm_df = pd.DataFrame(cm)\n",
    "\n",
    "#Plotting the confusion matrix\n",
    "plt.figure(figsize=(12,12))\n",
    "sns.heatmap(cm_df, annot=True)\n",
    "plt.title('Confusion Matrix')\n",
    "plt.ylabel('Actal Values')\n",
    "plt.xlabel('Predicted Values')\n",
    "plt.show()"
   ]
  },
  {
   "cell_type": "markdown",
   "id": "c0afc707",
   "metadata": {},
   "source": [
    "My model falsely classified 9 as 4 27 times."
   ]
  },
  {
   "cell_type": "code",
   "execution_count": 149,
   "id": "ddcd62f9",
   "metadata": {},
   "outputs": [
    {
     "data": {
      "text/html": [
       "<div>\n",
       "<style scoped>\n",
       "    .dataframe tbody tr th:only-of-type {\n",
       "        vertical-align: middle;\n",
       "    }\n",
       "\n",
       "    .dataframe tbody tr th {\n",
       "        vertical-align: top;\n",
       "    }\n",
       "\n",
       "    .dataframe thead th {\n",
       "        text-align: right;\n",
       "    }\n",
       "</style>\n",
       "<table border=\"1\" class=\"dataframe\">\n",
       "  <thead>\n",
       "    <tr style=\"text-align: right;\">\n",
       "      <th></th>\n",
       "      <th>Model</th>\n",
       "      <th>Accuracy</th>\n",
       "      <th>Fit Seconds</th>\n",
       "    </tr>\n",
       "  </thead>\n",
       "  <tbody>\n",
       "    <tr>\n",
       "      <th>0</th>\n",
       "      <td>Random_Forest</td>\n",
       "      <td>0.96510</td>\n",
       "      <td>22.87</td>\n",
       "    </tr>\n",
       "    <tr>\n",
       "      <th>1</th>\n",
       "      <td>PCA_Red_RF</td>\n",
       "      <td>0.94385</td>\n",
       "      <td>45.51</td>\n",
       "    </tr>\n",
       "    <tr>\n",
       "      <th>2</th>\n",
       "      <td>KMeans</td>\n",
       "      <td>0.89175</td>\n",
       "      <td>2.95</td>\n",
       "    </tr>\n",
       "    <tr>\n",
       "      <th>3</th>\n",
       "      <td>PCA_Red_RF2</td>\n",
       "      <td>0.94371</td>\n",
       "      <td>45.05</td>\n",
       "    </tr>\n",
       "    <tr>\n",
       "      <th>5</th>\n",
       "      <td>Neural_Net</td>\n",
       "      <td>0.97825</td>\n",
       "      <td>71.78</td>\n",
       "    </tr>\n",
       "  </tbody>\n",
       "</table>\n",
       "</div>"
      ],
      "text/plain": [
       "           Model  Accuracy  Fit Seconds\n",
       "0  Random_Forest   0.96510        22.87\n",
       "1     PCA_Red_RF   0.94385        45.51\n",
       "2         KMeans   0.89175         2.95\n",
       "3    PCA_Red_RF2   0.94371        45.05\n",
       "5     Neural_Net   0.97825        71.78"
      ]
     },
     "execution_count": 149,
     "metadata": {},
     "output_type": "execute_result"
    }
   ],
   "source": [
    "#nn_row = pd.Series(['Neural_Net', .97825, 71.78], index = summary_df.columns)\n",
    "#summary_df = summary_df.append(nn_row, ignore_index=True)\n",
    "\n",
    "#summary_df.drop(df.index[4], inplace=True)\n",
    "\n",
    "summary_df"
   ]
  },
  {
   "cell_type": "code",
   "execution_count": null,
   "id": "8e84a333",
   "metadata": {},
   "outputs": [],
   "source": []
  }
 ],
 "metadata": {
  "kernelspec": {
   "display_name": "Python 3",
   "language": "python",
   "name": "python3"
  },
  "language_info": {
   "codemirror_mode": {
    "name": "ipython",
    "version": 3
   },
   "file_extension": ".py",
   "mimetype": "text/x-python",
   "name": "python",
   "nbconvert_exporter": "python",
   "pygments_lexer": "ipython3",
   "version": "3.8.8"
  }
 },
 "nbformat": 4,
 "nbformat_minor": 5
}
